{
  "nbformat": 4,
  "nbformat_minor": 0,
  "metadata": {
    "colab": {
      "provenance": []
    },
    "kernelspec": {
      "name": "python3",
      "display_name": "Python 3"
    },
    "language_info": {
      "name": "python"
    },
    "widgets": {
      "application/vnd.jupyter.widget-state+json": {
        "c99975fcf36e464ea2e79d69001f51d9": {
          "model_module": "@jupyter-widgets/controls",
          "model_name": "VBoxModel",
          "model_module_version": "1.5.0",
          "state": {
            "_dom_classes": [
              "widget-interact"
            ],
            "_model_module": "@jupyter-widgets/controls",
            "_model_module_version": "1.5.0",
            "_model_name": "VBoxModel",
            "_view_count": null,
            "_view_module": "@jupyter-widgets/controls",
            "_view_module_version": "1.5.0",
            "_view_name": "VBoxView",
            "box_style": "",
            "children": [
              "IPY_MODEL_13c2c87c2b8e49c5b655f4ff15419313",
              "IPY_MODEL_204b9bf193ac42c2ae4e007abdcab64f",
              "IPY_MODEL_809a8e9fef0f45a9a9137ff76ea7c24f"
            ],
            "layout": "IPY_MODEL_092bfcb4f7654901b19e4fd6b3f984e8"
          }
        },
        "13c2c87c2b8e49c5b655f4ff15419313": {
          "model_module": "@jupyter-widgets/controls",
          "model_name": "IntSliderModel",
          "model_module_version": "1.5.0",
          "state": {
            "_dom_classes": [],
            "_model_module": "@jupyter-widgets/controls",
            "_model_module_version": "1.5.0",
            "_model_name": "IntSliderModel",
            "_view_count": null,
            "_view_module": "@jupyter-widgets/controls",
            "_view_module_version": "1.5.0",
            "_view_name": "IntSliderView",
            "continuous_update": true,
            "description": "seed",
            "description_tooltip": null,
            "disabled": false,
            "layout": "IPY_MODEL_e0a779cf118e442cac0a68e02f3c8d12",
            "max": 50,
            "min": 1,
            "orientation": "horizontal",
            "readout": true,
            "readout_format": "d",
            "step": 1,
            "style": "IPY_MODEL_d2054f929ab444e5b88c949579a36faf",
            "value": 50
          }
        },
        "204b9bf193ac42c2ae4e007abdcab64f": {
          "model_module": "@jupyter-widgets/controls",
          "model_name": "IntSliderModel",
          "model_module_version": "1.5.0",
          "state": {
            "_dom_classes": [],
            "_model_module": "@jupyter-widgets/controls",
            "_model_module_version": "1.5.0",
            "_model_name": "IntSliderModel",
            "_view_count": null,
            "_view_module": "@jupyter-widgets/controls",
            "_view_module_version": "1.5.0",
            "_view_name": "IntSliderView",
            "continuous_update": true,
            "description": "cv_folds",
            "description_tooltip": null,
            "disabled": false,
            "layout": "IPY_MODEL_0c8fede9706946b69958db3e25591cd1",
            "max": 100,
            "min": 2,
            "orientation": "horizontal",
            "readout": true,
            "readout_format": "d",
            "step": 1,
            "style": "IPY_MODEL_e200902283eb42958f35e702406727b0",
            "value": 13
          }
        },
        "809a8e9fef0f45a9a9137ff76ea7c24f": {
          "model_module": "@jupyter-widgets/output",
          "model_name": "OutputModel",
          "model_module_version": "1.0.0",
          "state": {
            "_dom_classes": [],
            "_model_module": "@jupyter-widgets/output",
            "_model_module_version": "1.0.0",
            "_model_name": "OutputModel",
            "_view_count": null,
            "_view_module": "@jupyter-widgets/output",
            "_view_module_version": "1.0.0",
            "_view_name": "OutputView",
            "layout": "IPY_MODEL_bb8a7792a76d4c04a01045a323b3f38f",
            "msg_id": "",
            "outputs": [
              {
                "output_type": "display_data",
                "data": {
                  "text/plain": "<Figure size 432x288 with 1 Axes>",
                  "image/png": "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\n"
                },
                "metadata": {
                  "needs_background": "light"
                }
              }
            ]
          }
        },
        "092bfcb4f7654901b19e4fd6b3f984e8": {
          "model_module": "@jupyter-widgets/base",
          "model_name": "LayoutModel",
          "model_module_version": "1.2.0",
          "state": {
            "_model_module": "@jupyter-widgets/base",
            "_model_module_version": "1.2.0",
            "_model_name": "LayoutModel",
            "_view_count": null,
            "_view_module": "@jupyter-widgets/base",
            "_view_module_version": "1.2.0",
            "_view_name": "LayoutView",
            "align_content": null,
            "align_items": null,
            "align_self": null,
            "border": null,
            "bottom": null,
            "display": null,
            "flex": null,
            "flex_flow": null,
            "grid_area": null,
            "grid_auto_columns": null,
            "grid_auto_flow": null,
            "grid_auto_rows": null,
            "grid_column": null,
            "grid_gap": null,
            "grid_row": null,
            "grid_template_areas": null,
            "grid_template_columns": null,
            "grid_template_rows": null,
            "height": null,
            "justify_content": null,
            "justify_items": null,
            "left": null,
            "margin": null,
            "max_height": null,
            "max_width": null,
            "min_height": null,
            "min_width": null,
            "object_fit": null,
            "object_position": null,
            "order": null,
            "overflow": null,
            "overflow_x": null,
            "overflow_y": null,
            "padding": null,
            "right": null,
            "top": null,
            "visibility": null,
            "width": null
          }
        },
        "e0a779cf118e442cac0a68e02f3c8d12": {
          "model_module": "@jupyter-widgets/base",
          "model_name": "LayoutModel",
          "model_module_version": "1.2.0",
          "state": {
            "_model_module": "@jupyter-widgets/base",
            "_model_module_version": "1.2.0",
            "_model_name": "LayoutModel",
            "_view_count": null,
            "_view_module": "@jupyter-widgets/base",
            "_view_module_version": "1.2.0",
            "_view_name": "LayoutView",
            "align_content": null,
            "align_items": null,
            "align_self": null,
            "border": null,
            "bottom": null,
            "display": null,
            "flex": null,
            "flex_flow": null,
            "grid_area": null,
            "grid_auto_columns": null,
            "grid_auto_flow": null,
            "grid_auto_rows": null,
            "grid_column": null,
            "grid_gap": null,
            "grid_row": null,
            "grid_template_areas": null,
            "grid_template_columns": null,
            "grid_template_rows": null,
            "height": null,
            "justify_content": null,
            "justify_items": null,
            "left": null,
            "margin": null,
            "max_height": null,
            "max_width": null,
            "min_height": null,
            "min_width": null,
            "object_fit": null,
            "object_position": null,
            "order": null,
            "overflow": null,
            "overflow_x": null,
            "overflow_y": null,
            "padding": null,
            "right": null,
            "top": null,
            "visibility": null,
            "width": null
          }
        },
        "d2054f929ab444e5b88c949579a36faf": {
          "model_module": "@jupyter-widgets/controls",
          "model_name": "SliderStyleModel",
          "model_module_version": "1.5.0",
          "state": {
            "_model_module": "@jupyter-widgets/controls",
            "_model_module_version": "1.5.0",
            "_model_name": "SliderStyleModel",
            "_view_count": null,
            "_view_module": "@jupyter-widgets/base",
            "_view_module_version": "1.2.0",
            "_view_name": "StyleView",
            "description_width": "",
            "handle_color": null
          }
        },
        "0c8fede9706946b69958db3e25591cd1": {
          "model_module": "@jupyter-widgets/base",
          "model_name": "LayoutModel",
          "model_module_version": "1.2.0",
          "state": {
            "_model_module": "@jupyter-widgets/base",
            "_model_module_version": "1.2.0",
            "_model_name": "LayoutModel",
            "_view_count": null,
            "_view_module": "@jupyter-widgets/base",
            "_view_module_version": "1.2.0",
            "_view_name": "LayoutView",
            "align_content": null,
            "align_items": null,
            "align_self": null,
            "border": null,
            "bottom": null,
            "display": null,
            "flex": null,
            "flex_flow": null,
            "grid_area": null,
            "grid_auto_columns": null,
            "grid_auto_flow": null,
            "grid_auto_rows": null,
            "grid_column": null,
            "grid_gap": null,
            "grid_row": null,
            "grid_template_areas": null,
            "grid_template_columns": null,
            "grid_template_rows": null,
            "height": null,
            "justify_content": null,
            "justify_items": null,
            "left": null,
            "margin": null,
            "max_height": null,
            "max_width": null,
            "min_height": null,
            "min_width": null,
            "object_fit": null,
            "object_position": null,
            "order": null,
            "overflow": null,
            "overflow_x": null,
            "overflow_y": null,
            "padding": null,
            "right": null,
            "top": null,
            "visibility": null,
            "width": null
          }
        },
        "e200902283eb42958f35e702406727b0": {
          "model_module": "@jupyter-widgets/controls",
          "model_name": "SliderStyleModel",
          "model_module_version": "1.5.0",
          "state": {
            "_model_module": "@jupyter-widgets/controls",
            "_model_module_version": "1.5.0",
            "_model_name": "SliderStyleModel",
            "_view_count": null,
            "_view_module": "@jupyter-widgets/base",
            "_view_module_version": "1.2.0",
            "_view_name": "StyleView",
            "description_width": "",
            "handle_color": null
          }
        },
        "bb8a7792a76d4c04a01045a323b3f38f": {
          "model_module": "@jupyter-widgets/base",
          "model_name": "LayoutModel",
          "model_module_version": "1.2.0",
          "state": {
            "_model_module": "@jupyter-widgets/base",
            "_model_module_version": "1.2.0",
            "_model_name": "LayoutModel",
            "_view_count": null,
            "_view_module": "@jupyter-widgets/base",
            "_view_module_version": "1.2.0",
            "_view_name": "LayoutView",
            "align_content": null,
            "align_items": null,
            "align_self": null,
            "border": null,
            "bottom": null,
            "display": null,
            "flex": null,
            "flex_flow": null,
            "grid_area": null,
            "grid_auto_columns": null,
            "grid_auto_flow": null,
            "grid_auto_rows": null,
            "grid_column": null,
            "grid_gap": null,
            "grid_row": null,
            "grid_template_areas": null,
            "grid_template_columns": null,
            "grid_template_rows": null,
            "height": null,
            "justify_content": null,
            "justify_items": null,
            "left": null,
            "margin": null,
            "max_height": null,
            "max_width": null,
            "min_height": null,
            "min_width": null,
            "object_fit": null,
            "object_position": null,
            "order": null,
            "overflow": null,
            "overflow_x": null,
            "overflow_y": null,
            "padding": null,
            "right": null,
            "top": null,
            "visibility": null,
            "width": null
          }
        },
        "f8fa2c35e09b4573a0c9772a22d262f0": {
          "model_module": "@jupyter-widgets/controls",
          "model_name": "VBoxModel",
          "model_module_version": "1.5.0",
          "state": {
            "_dom_classes": [
              "widget-interact"
            ],
            "_model_module": "@jupyter-widgets/controls",
            "_model_module_version": "1.5.0",
            "_model_name": "VBoxModel",
            "_view_count": null,
            "_view_module": "@jupyter-widgets/controls",
            "_view_module_version": "1.5.0",
            "_view_name": "VBoxView",
            "box_style": "",
            "children": [
              "IPY_MODEL_8d2084078f384c21a4729cece540f078",
              "IPY_MODEL_ed24ba94ee484161b99ad6d6ff5d0c05"
            ],
            "layout": "IPY_MODEL_f11aee832d3c45f0a9b92fd3c0c1cf1f"
          }
        },
        "8d2084078f384c21a4729cece540f078": {
          "model_module": "@jupyter-widgets/controls",
          "model_name": "IntSliderModel",
          "model_module_version": "1.5.0",
          "state": {
            "_dom_classes": [],
            "_model_module": "@jupyter-widgets/controls",
            "_model_module_version": "1.5.0",
            "_model_name": "IntSliderModel",
            "_view_count": null,
            "_view_module": "@jupyter-widgets/controls",
            "_view_module_version": "1.5.0",
            "_view_name": "IntSliderView",
            "continuous_update": true,
            "description": "seed",
            "description_tooltip": null,
            "disabled": false,
            "layout": "IPY_MODEL_b8720100955e4feda8eefd3809d4c71a",
            "max": 50,
            "min": 1,
            "orientation": "horizontal",
            "readout": true,
            "readout_format": "d",
            "step": 1,
            "style": "IPY_MODEL_e03b130898bc481688bc7b2cd39e3da6",
            "value": 10
          }
        },
        "ed24ba94ee484161b99ad6d6ff5d0c05": {
          "model_module": "@jupyter-widgets/output",
          "model_name": "OutputModel",
          "model_module_version": "1.0.0",
          "state": {
            "_dom_classes": [],
            "_model_module": "@jupyter-widgets/output",
            "_model_module_version": "1.0.0",
            "_model_name": "OutputModel",
            "_view_count": null,
            "_view_module": "@jupyter-widgets/output",
            "_view_module_version": "1.0.0",
            "_view_name": "OutputView",
            "layout": "IPY_MODEL_602e21fd572847ed90d4b8b363c40d44",
            "msg_id": "",
            "outputs": [
              {
                "output_type": "display_data",
                "data": {
                  "text/plain": "<Figure size 432x288 with 1 Axes>",
                  "image/png": "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\n"
                },
                "metadata": {
                  "needs_background": "light"
                }
              }
            ]
          }
        },
        "f11aee832d3c45f0a9b92fd3c0c1cf1f": {
          "model_module": "@jupyter-widgets/base",
          "model_name": "LayoutModel",
          "model_module_version": "1.2.0",
          "state": {
            "_model_module": "@jupyter-widgets/base",
            "_model_module_version": "1.2.0",
            "_model_name": "LayoutModel",
            "_view_count": null,
            "_view_module": "@jupyter-widgets/base",
            "_view_module_version": "1.2.0",
            "_view_name": "LayoutView",
            "align_content": null,
            "align_items": null,
            "align_self": null,
            "border": null,
            "bottom": null,
            "display": null,
            "flex": null,
            "flex_flow": null,
            "grid_area": null,
            "grid_auto_columns": null,
            "grid_auto_flow": null,
            "grid_auto_rows": null,
            "grid_column": null,
            "grid_gap": null,
            "grid_row": null,
            "grid_template_areas": null,
            "grid_template_columns": null,
            "grid_template_rows": null,
            "height": null,
            "justify_content": null,
            "justify_items": null,
            "left": null,
            "margin": null,
            "max_height": null,
            "max_width": null,
            "min_height": null,
            "min_width": null,
            "object_fit": null,
            "object_position": null,
            "order": null,
            "overflow": null,
            "overflow_x": null,
            "overflow_y": null,
            "padding": null,
            "right": null,
            "top": null,
            "visibility": null,
            "width": null
          }
        },
        "b8720100955e4feda8eefd3809d4c71a": {
          "model_module": "@jupyter-widgets/base",
          "model_name": "LayoutModel",
          "model_module_version": "1.2.0",
          "state": {
            "_model_module": "@jupyter-widgets/base",
            "_model_module_version": "1.2.0",
            "_model_name": "LayoutModel",
            "_view_count": null,
            "_view_module": "@jupyter-widgets/base",
            "_view_module_version": "1.2.0",
            "_view_name": "LayoutView",
            "align_content": null,
            "align_items": null,
            "align_self": null,
            "border": null,
            "bottom": null,
            "display": null,
            "flex": null,
            "flex_flow": null,
            "grid_area": null,
            "grid_auto_columns": null,
            "grid_auto_flow": null,
            "grid_auto_rows": null,
            "grid_column": null,
            "grid_gap": null,
            "grid_row": null,
            "grid_template_areas": null,
            "grid_template_columns": null,
            "grid_template_rows": null,
            "height": null,
            "justify_content": null,
            "justify_items": null,
            "left": null,
            "margin": null,
            "max_height": null,
            "max_width": null,
            "min_height": null,
            "min_width": null,
            "object_fit": null,
            "object_position": null,
            "order": null,
            "overflow": null,
            "overflow_x": null,
            "overflow_y": null,
            "padding": null,
            "right": null,
            "top": null,
            "visibility": null,
            "width": null
          }
        },
        "e03b130898bc481688bc7b2cd39e3da6": {
          "model_module": "@jupyter-widgets/controls",
          "model_name": "SliderStyleModel",
          "model_module_version": "1.5.0",
          "state": {
            "_model_module": "@jupyter-widgets/controls",
            "_model_module_version": "1.5.0",
            "_model_name": "SliderStyleModel",
            "_view_count": null,
            "_view_module": "@jupyter-widgets/base",
            "_view_module_version": "1.2.0",
            "_view_name": "StyleView",
            "description_width": "",
            "handle_color": null
          }
        },
        "602e21fd572847ed90d4b8b363c40d44": {
          "model_module": "@jupyter-widgets/base",
          "model_name": "LayoutModel",
          "model_module_version": "1.2.0",
          "state": {
            "_model_module": "@jupyter-widgets/base",
            "_model_module_version": "1.2.0",
            "_model_name": "LayoutModel",
            "_view_count": null,
            "_view_module": "@jupyter-widgets/base",
            "_view_module_version": "1.2.0",
            "_view_name": "LayoutView",
            "align_content": null,
            "align_items": null,
            "align_self": null,
            "border": null,
            "bottom": null,
            "display": null,
            "flex": null,
            "flex_flow": null,
            "grid_area": null,
            "grid_auto_columns": null,
            "grid_auto_flow": null,
            "grid_auto_rows": null,
            "grid_column": null,
            "grid_gap": null,
            "grid_row": null,
            "grid_template_areas": null,
            "grid_template_columns": null,
            "grid_template_rows": null,
            "height": null,
            "justify_content": null,
            "justify_items": null,
            "left": null,
            "margin": null,
            "max_height": null,
            "max_width": null,
            "min_height": null,
            "min_width": null,
            "object_fit": null,
            "object_position": null,
            "order": null,
            "overflow": null,
            "overflow_x": null,
            "overflow_y": null,
            "padding": null,
            "right": null,
            "top": null,
            "visibility": null,
            "width": null
          }
        }
      }
    }
  },
  "cells": [
    {
      "cell_type": "code",
      "execution_count": null,
      "metadata": {
        "colab": {
          "base_uri": "https://localhost:8080/"
        },
        "id": "Ai7jrFL3hEXo",
        "outputId": "8822fc71-bf51-40c2-ef8f-8b05172c0f94"
      },
      "outputs": [
        {
          "output_type": "stream",
          "name": "stdout",
          "text": [
            "Mounted at /content/gdrive\n"
          ]
        }
      ],
      "source": [
        "#Configuro el Google Colab\n",
        "from google.colab import drive\n",
        "drive.mount('/content/gdrive')"
      ]
    },
    {
      "cell_type": "code",
      "source": [
        "#Importo las librerias\n",
        "import numpy as np\n",
        "import pandas as pd\n",
        "import matplotlib.pyplot as plt\n",
        "import seaborn as sns\n",
        "import statsmodels.api as sm\n",
        "import statsmodels.formula.api as smf\n",
        "import patsy\n",
        "import itertools\n",
        "from IPython.display import display, HTML\n",
        "from sklearn import linear_model\n",
        "from sklearn.model_selection import KFold\n",
        "from ipywidgets import interact\n",
        "import ipywidgets as widgets\n",
        "import warnings\n",
        "warnings.filterwarnings('ignore')"
      ],
      "metadata": {
        "id": "Y52MSVr05zB5"
      },
      "execution_count": null,
      "outputs": []
    },
    {
      "cell_type": "code",
      "source": [
        "#Importo los datos\n",
        "data = pd.read_excel('/content/gdrive/MyDrive/Maestria/Segundo Semestre/Metodos Estadisticos Avanzados/ACCIONES.xlsx', index_col=0)\n",
        "data.head()"
      ],
      "metadata": {
        "colab": {
          "base_uri": "https://localhost:8080/",
          "height": 237
        },
        "id": "metrnC8L55sk",
        "outputId": "0a81f96b-18ac-49eb-f6d4-a29ab475f3e1"
      },
      "execution_count": null,
      "outputs": [
        {
          "output_type": "execute_result",
          "data": {
            "text/plain": [
              "            MICROSOFT  AAPL  FORD  TESLA   SANDP    CPI  INDPRO  M1SUPPLY  \\\n",
              "Date                                                                        \n",
              "1986-03-01       0.10  0.13  4.98    0.0  238.90  108.8   56.54     624.3   \n",
              "1986-04-01       0.11  0.14  4.60    0.0  235.52  108.6   56.57     647.0   \n",
              "1986-05-01       0.12  0.17  4.90    0.0  247.35  108.9   56.69     645.7   \n",
              "1986-06-01       0.11  0.16  5.03    0.0  250.84  109.5   56.50     662.8   \n",
              "1986-07-01       0.10  0.14  4.88    0.0  236.12  109.5   56.81     673.4   \n",
              "\n",
              "            CCREDIT  BMINUSA  USTB3M  USTB10Y  \n",
              "Date                                           \n",
              "1986-03-01   606.80     1.50    6.76     7.78  \n",
              "1986-04-01   614.37     1.40    6.24     7.30  \n",
              "1986-05-01   621.92     1.20    6.33     7.71  \n",
              "1986-06-01   627.89     1.21    6.40     7.80  \n",
              "1986-07-01   633.61     1.28    6.00     7.30  "
            ],
            "text/html": [
              "\n",
              "  <div id=\"df-e11d44f9-669a-4e6d-8787-0173284c3475\">\n",
              "    <div class=\"colab-df-container\">\n",
              "      <div>\n",
              "<style scoped>\n",
              "    .dataframe tbody tr th:only-of-type {\n",
              "        vertical-align: middle;\n",
              "    }\n",
              "\n",
              "    .dataframe tbody tr th {\n",
              "        vertical-align: top;\n",
              "    }\n",
              "\n",
              "    .dataframe thead th {\n",
              "        text-align: right;\n",
              "    }\n",
              "</style>\n",
              "<table border=\"1\" class=\"dataframe\">\n",
              "  <thead>\n",
              "    <tr style=\"text-align: right;\">\n",
              "      <th></th>\n",
              "      <th>MICROSOFT</th>\n",
              "      <th>AAPL</th>\n",
              "      <th>FORD</th>\n",
              "      <th>TESLA</th>\n",
              "      <th>SANDP</th>\n",
              "      <th>CPI</th>\n",
              "      <th>INDPRO</th>\n",
              "      <th>M1SUPPLY</th>\n",
              "      <th>CCREDIT</th>\n",
              "      <th>BMINUSA</th>\n",
              "      <th>USTB3M</th>\n",
              "      <th>USTB10Y</th>\n",
              "    </tr>\n",
              "    <tr>\n",
              "      <th>Date</th>\n",
              "      <th></th>\n",
              "      <th></th>\n",
              "      <th></th>\n",
              "      <th></th>\n",
              "      <th></th>\n",
              "      <th></th>\n",
              "      <th></th>\n",
              "      <th></th>\n",
              "      <th></th>\n",
              "      <th></th>\n",
              "      <th></th>\n",
              "      <th></th>\n",
              "    </tr>\n",
              "  </thead>\n",
              "  <tbody>\n",
              "    <tr>\n",
              "      <th>1986-03-01</th>\n",
              "      <td>0.10</td>\n",
              "      <td>0.13</td>\n",
              "      <td>4.98</td>\n",
              "      <td>0.0</td>\n",
              "      <td>238.90</td>\n",
              "      <td>108.8</td>\n",
              "      <td>56.54</td>\n",
              "      <td>624.3</td>\n",
              "      <td>606.80</td>\n",
              "      <td>1.50</td>\n",
              "      <td>6.76</td>\n",
              "      <td>7.78</td>\n",
              "    </tr>\n",
              "    <tr>\n",
              "      <th>1986-04-01</th>\n",
              "      <td>0.11</td>\n",
              "      <td>0.14</td>\n",
              "      <td>4.60</td>\n",
              "      <td>0.0</td>\n",
              "      <td>235.52</td>\n",
              "      <td>108.6</td>\n",
              "      <td>56.57</td>\n",
              "      <td>647.0</td>\n",
              "      <td>614.37</td>\n",
              "      <td>1.40</td>\n",
              "      <td>6.24</td>\n",
              "      <td>7.30</td>\n",
              "    </tr>\n",
              "    <tr>\n",
              "      <th>1986-05-01</th>\n",
              "      <td>0.12</td>\n",
              "      <td>0.17</td>\n",
              "      <td>4.90</td>\n",
              "      <td>0.0</td>\n",
              "      <td>247.35</td>\n",
              "      <td>108.9</td>\n",
              "      <td>56.69</td>\n",
              "      <td>645.7</td>\n",
              "      <td>621.92</td>\n",
              "      <td>1.20</td>\n",
              "      <td>6.33</td>\n",
              "      <td>7.71</td>\n",
              "    </tr>\n",
              "    <tr>\n",
              "      <th>1986-06-01</th>\n",
              "      <td>0.11</td>\n",
              "      <td>0.16</td>\n",
              "      <td>5.03</td>\n",
              "      <td>0.0</td>\n",
              "      <td>250.84</td>\n",
              "      <td>109.5</td>\n",
              "      <td>56.50</td>\n",
              "      <td>662.8</td>\n",
              "      <td>627.89</td>\n",
              "      <td>1.21</td>\n",
              "      <td>6.40</td>\n",
              "      <td>7.80</td>\n",
              "    </tr>\n",
              "    <tr>\n",
              "      <th>1986-07-01</th>\n",
              "      <td>0.10</td>\n",
              "      <td>0.14</td>\n",
              "      <td>4.88</td>\n",
              "      <td>0.0</td>\n",
              "      <td>236.12</td>\n",
              "      <td>109.5</td>\n",
              "      <td>56.81</td>\n",
              "      <td>673.4</td>\n",
              "      <td>633.61</td>\n",
              "      <td>1.28</td>\n",
              "      <td>6.00</td>\n",
              "      <td>7.30</td>\n",
              "    </tr>\n",
              "  </tbody>\n",
              "</table>\n",
              "</div>\n",
              "      <button class=\"colab-df-convert\" onclick=\"convertToInteractive('df-e11d44f9-669a-4e6d-8787-0173284c3475')\"\n",
              "              title=\"Convert this dataframe to an interactive table.\"\n",
              "              style=\"display:none;\">\n",
              "        \n",
              "  <svg xmlns=\"http://www.w3.org/2000/svg\" height=\"24px\"viewBox=\"0 0 24 24\"\n",
              "       width=\"24px\">\n",
              "    <path d=\"M0 0h24v24H0V0z\" fill=\"none\"/>\n",
              "    <path d=\"M18.56 5.44l.94 2.06.94-2.06 2.06-.94-2.06-.94-.94-2.06-.94 2.06-2.06.94zm-11 1L8.5 8.5l.94-2.06 2.06-.94-2.06-.94L8.5 2.5l-.94 2.06-2.06.94zm10 10l.94 2.06.94-2.06 2.06-.94-2.06-.94-.94-2.06-.94 2.06-2.06.94z\"/><path d=\"M17.41 7.96l-1.37-1.37c-.4-.4-.92-.59-1.43-.59-.52 0-1.04.2-1.43.59L10.3 9.45l-7.72 7.72c-.78.78-.78 2.05 0 2.83L4 21.41c.39.39.9.59 1.41.59.51 0 1.02-.2 1.41-.59l7.78-7.78 2.81-2.81c.8-.78.8-2.07 0-2.86zM5.41 20L4 18.59l7.72-7.72 1.47 1.35L5.41 20z\"/>\n",
              "  </svg>\n",
              "      </button>\n",
              "      \n",
              "  <style>\n",
              "    .colab-df-container {\n",
              "      display:flex;\n",
              "      flex-wrap:wrap;\n",
              "      gap: 12px;\n",
              "    }\n",
              "\n",
              "    .colab-df-convert {\n",
              "      background-color: #E8F0FE;\n",
              "      border: none;\n",
              "      border-radius: 50%;\n",
              "      cursor: pointer;\n",
              "      display: none;\n",
              "      fill: #1967D2;\n",
              "      height: 32px;\n",
              "      padding: 0 0 0 0;\n",
              "      width: 32px;\n",
              "    }\n",
              "\n",
              "    .colab-df-convert:hover {\n",
              "      background-color: #E2EBFA;\n",
              "      box-shadow: 0px 1px 2px rgba(60, 64, 67, 0.3), 0px 1px 3px 1px rgba(60, 64, 67, 0.15);\n",
              "      fill: #174EA6;\n",
              "    }\n",
              "\n",
              "    [theme=dark] .colab-df-convert {\n",
              "      background-color: #3B4455;\n",
              "      fill: #D2E3FC;\n",
              "    }\n",
              "\n",
              "    [theme=dark] .colab-df-convert:hover {\n",
              "      background-color: #434B5C;\n",
              "      box-shadow: 0px 1px 3px 1px rgba(0, 0, 0, 0.15);\n",
              "      filter: drop-shadow(0px 1px 2px rgba(0, 0, 0, 0.3));\n",
              "      fill: #FFFFFF;\n",
              "    }\n",
              "  </style>\n",
              "\n",
              "      <script>\n",
              "        const buttonEl =\n",
              "          document.querySelector('#df-e11d44f9-669a-4e6d-8787-0173284c3475 button.colab-df-convert');\n",
              "        buttonEl.style.display =\n",
              "          google.colab.kernel.accessAllowed ? 'block' : 'none';\n",
              "\n",
              "        async function convertToInteractive(key) {\n",
              "          const element = document.querySelector('#df-e11d44f9-669a-4e6d-8787-0173284c3475');\n",
              "          const dataTable =\n",
              "            await google.colab.kernel.invokeFunction('convertToInteractive',\n",
              "                                                     [key], {});\n",
              "          if (!dataTable) return;\n",
              "\n",
              "          const docLinkHtml = 'Like what you see? Visit the ' +\n",
              "            '<a target=\"_blank\" href=https://colab.research.google.com/notebooks/data_table.ipynb>data table notebook</a>'\n",
              "            + ' to learn more about interactive tables.';\n",
              "          element.innerHTML = '';\n",
              "          dataTable['output_type'] = 'display_data';\n",
              "          await google.colab.output.renderOutput(dataTable, element);\n",
              "          const docLink = document.createElement('div');\n",
              "          docLink.innerHTML = docLinkHtml;\n",
              "          element.appendChild(docLink);\n",
              "        }\n",
              "      </script>\n",
              "    </div>\n",
              "  </div>\n",
              "  "
            ]
          },
          "metadata": {},
          "execution_count": 3
        }
      ]
    },
    {
      "cell_type": "code",
      "source": [
        "##Defino la función LogDiff que me permite sacar el logaritmo de los datos que escoja\n",
        "def LogDiff(x):\n",
        "    x_diff = 100*np.log(x/x.shift(1))\n",
        "    x_diff = x_diff.dropna()\n",
        "    return x_diff"
      ],
      "metadata": {
        "id": "t6An3jt96FGf"
      },
      "execution_count": null,
      "outputs": []
    },
    {
      "cell_type": "code",
      "source": [
        "#Hago una transformación de datos restando el dato del año anterior. Algunos datos con escala logarítmica, otros no.\n",
        "data = pd.DataFrame({'dspread' : data['BMINUSA'] - \\\n",
        "data['BMINUSA'].shift(1),\n",
        "'dcredit' : data['CCREDIT'] - \\\n",
        "data['CCREDIT'].shift(1),\n",
        "'dprod' : data['INDPRO'] - \\\n",
        "data['INDPRO'].shift(1),\n",
        "'raapl' : LogDiff(data['AAPL']),\n",
        "'rsandp' : LogDiff(data['SANDP']),\n",
        "'dmoney' : data['M1SUPPLY'] - \\\n",
        "data['M1SUPPLY'].shift(1),\n",
        "'inflation' : LogDiff(data['CPI']),\n",
        "'term' : data['USTB10Y'] - data['USTB3M'],\n",
        "'dinflation' : LogDiff(data['CPI']) - \\\n",
        "LogDiff(data['CPI']).shift(1),\n",
        "'mustb3m' : data['USTB3M']/12,\n",
        "'rterm' : (data['USTB10Y'] - data['USTB3M']) - \\\n",
        "(data['USTB10Y'] - data['USTB3M']).shift(1),\n",
        "'eraapl' : LogDiff(data['AAPL']) - \\\n",
        "data['USTB3M']/12,\n",
        "'ersandp' : LogDiff(data['SANDP']) - \\\n",
        "data['USTB3M']/12})"
      ],
      "metadata": {
        "id": "nIcPyLeM6I7V"
      },
      "execution_count": null,
      "outputs": []
    },
    {
      "cell_type": "code",
      "source": [
        "#Reviso como quedo mi nuevo data set\n",
        "data.head()"
      ],
      "metadata": {
        "colab": {
          "base_uri": "https://localhost:8080/",
          "height": 237
        },
        "id": "5pOz4N8f6oqf",
        "outputId": "5aa37139-905c-4065-fb1f-5cf7fc4ca81d"
      },
      "execution_count": null,
      "outputs": [
        {
          "output_type": "execute_result",
          "data": {
            "text/plain": [
              "            dspread  dcredit  dprod      raapl    rsandp  dmoney  inflation  \\\n",
              "Date                                                                          \n",
              "1986-03-01      NaN      NaN    NaN        NaN       NaN     NaN        NaN   \n",
              "1986-04-01    -0.10     7.57   0.03   7.410797 -1.424922    22.7  -0.183993   \n",
              "1986-05-01    -0.20     7.55   0.12  19.415601  4.900850    -1.3   0.275862   \n",
              "1986-06-01     0.01     5.97  -0.19  -6.062462  1.401095    17.1   0.549452   \n",
              "1986-07-01     0.07     5.72   0.31 -13.353139 -6.047514    10.6   0.000000   \n",
              "\n",
              "            term  dinflation   mustb3m  rterm     eraapl   ersandp  \n",
              "Date                                                                \n",
              "1986-03-01  1.02         NaN  0.563333    NaN        NaN       NaN  \n",
              "1986-04-01  1.06         NaN  0.520000   0.04   6.890797 -1.944922  \n",
              "1986-05-01  1.38    0.459855  0.527500   0.32  18.888101  4.373350  \n",
              "1986-06-01  1.40    0.273590  0.533333   0.02  -6.595796  0.867761  \n",
              "1986-07-01  1.30   -0.549452  0.500000  -0.10 -13.853139 -6.547514  "
            ],
            "text/html": [
              "\n",
              "  <div id=\"df-545eabc7-aaa9-456e-8307-24ec5703bcd3\">\n",
              "    <div class=\"colab-df-container\">\n",
              "      <div>\n",
              "<style scoped>\n",
              "    .dataframe tbody tr th:only-of-type {\n",
              "        vertical-align: middle;\n",
              "    }\n",
              "\n",
              "    .dataframe tbody tr th {\n",
              "        vertical-align: top;\n",
              "    }\n",
              "\n",
              "    .dataframe thead th {\n",
              "        text-align: right;\n",
              "    }\n",
              "</style>\n",
              "<table border=\"1\" class=\"dataframe\">\n",
              "  <thead>\n",
              "    <tr style=\"text-align: right;\">\n",
              "      <th></th>\n",
              "      <th>dspread</th>\n",
              "      <th>dcredit</th>\n",
              "      <th>dprod</th>\n",
              "      <th>raapl</th>\n",
              "      <th>rsandp</th>\n",
              "      <th>dmoney</th>\n",
              "      <th>inflation</th>\n",
              "      <th>term</th>\n",
              "      <th>dinflation</th>\n",
              "      <th>mustb3m</th>\n",
              "      <th>rterm</th>\n",
              "      <th>eraapl</th>\n",
              "      <th>ersandp</th>\n",
              "    </tr>\n",
              "    <tr>\n",
              "      <th>Date</th>\n",
              "      <th></th>\n",
              "      <th></th>\n",
              "      <th></th>\n",
              "      <th></th>\n",
              "      <th></th>\n",
              "      <th></th>\n",
              "      <th></th>\n",
              "      <th></th>\n",
              "      <th></th>\n",
              "      <th></th>\n",
              "      <th></th>\n",
              "      <th></th>\n",
              "      <th></th>\n",
              "    </tr>\n",
              "  </thead>\n",
              "  <tbody>\n",
              "    <tr>\n",
              "      <th>1986-03-01</th>\n",
              "      <td>NaN</td>\n",
              "      <td>NaN</td>\n",
              "      <td>NaN</td>\n",
              "      <td>NaN</td>\n",
              "      <td>NaN</td>\n",
              "      <td>NaN</td>\n",
              "      <td>NaN</td>\n",
              "      <td>1.02</td>\n",
              "      <td>NaN</td>\n",
              "      <td>0.563333</td>\n",
              "      <td>NaN</td>\n",
              "      <td>NaN</td>\n",
              "      <td>NaN</td>\n",
              "    </tr>\n",
              "    <tr>\n",
              "      <th>1986-04-01</th>\n",
              "      <td>-0.10</td>\n",
              "      <td>7.57</td>\n",
              "      <td>0.03</td>\n",
              "      <td>7.410797</td>\n",
              "      <td>-1.424922</td>\n",
              "      <td>22.7</td>\n",
              "      <td>-0.183993</td>\n",
              "      <td>1.06</td>\n",
              "      <td>NaN</td>\n",
              "      <td>0.520000</td>\n",
              "      <td>0.04</td>\n",
              "      <td>6.890797</td>\n",
              "      <td>-1.944922</td>\n",
              "    </tr>\n",
              "    <tr>\n",
              "      <th>1986-05-01</th>\n",
              "      <td>-0.20</td>\n",
              "      <td>7.55</td>\n",
              "      <td>0.12</td>\n",
              "      <td>19.415601</td>\n",
              "      <td>4.900850</td>\n",
              "      <td>-1.3</td>\n",
              "      <td>0.275862</td>\n",
              "      <td>1.38</td>\n",
              "      <td>0.459855</td>\n",
              "      <td>0.527500</td>\n",
              "      <td>0.32</td>\n",
              "      <td>18.888101</td>\n",
              "      <td>4.373350</td>\n",
              "    </tr>\n",
              "    <tr>\n",
              "      <th>1986-06-01</th>\n",
              "      <td>0.01</td>\n",
              "      <td>5.97</td>\n",
              "      <td>-0.19</td>\n",
              "      <td>-6.062462</td>\n",
              "      <td>1.401095</td>\n",
              "      <td>17.1</td>\n",
              "      <td>0.549452</td>\n",
              "      <td>1.40</td>\n",
              "      <td>0.273590</td>\n",
              "      <td>0.533333</td>\n",
              "      <td>0.02</td>\n",
              "      <td>-6.595796</td>\n",
              "      <td>0.867761</td>\n",
              "    </tr>\n",
              "    <tr>\n",
              "      <th>1986-07-01</th>\n",
              "      <td>0.07</td>\n",
              "      <td>5.72</td>\n",
              "      <td>0.31</td>\n",
              "      <td>-13.353139</td>\n",
              "      <td>-6.047514</td>\n",
              "      <td>10.6</td>\n",
              "      <td>0.000000</td>\n",
              "      <td>1.30</td>\n",
              "      <td>-0.549452</td>\n",
              "      <td>0.500000</td>\n",
              "      <td>-0.10</td>\n",
              "      <td>-13.853139</td>\n",
              "      <td>-6.547514</td>\n",
              "    </tr>\n",
              "  </tbody>\n",
              "</table>\n",
              "</div>\n",
              "      <button class=\"colab-df-convert\" onclick=\"convertToInteractive('df-545eabc7-aaa9-456e-8307-24ec5703bcd3')\"\n",
              "              title=\"Convert this dataframe to an interactive table.\"\n",
              "              style=\"display:none;\">\n",
              "        \n",
              "  <svg xmlns=\"http://www.w3.org/2000/svg\" height=\"24px\"viewBox=\"0 0 24 24\"\n",
              "       width=\"24px\">\n",
              "    <path d=\"M0 0h24v24H0V0z\" fill=\"none\"/>\n",
              "    <path d=\"M18.56 5.44l.94 2.06.94-2.06 2.06-.94-2.06-.94-.94-2.06-.94 2.06-2.06.94zm-11 1L8.5 8.5l.94-2.06 2.06-.94-2.06-.94L8.5 2.5l-.94 2.06-2.06.94zm10 10l.94 2.06.94-2.06 2.06-.94-2.06-.94-.94-2.06-.94 2.06-2.06.94z\"/><path d=\"M17.41 7.96l-1.37-1.37c-.4-.4-.92-.59-1.43-.59-.52 0-1.04.2-1.43.59L10.3 9.45l-7.72 7.72c-.78.78-.78 2.05 0 2.83L4 21.41c.39.39.9.59 1.41.59.51 0 1.02-.2 1.41-.59l7.78-7.78 2.81-2.81c.8-.78.8-2.07 0-2.86zM5.41 20L4 18.59l7.72-7.72 1.47 1.35L5.41 20z\"/>\n",
              "  </svg>\n",
              "      </button>\n",
              "      \n",
              "  <style>\n",
              "    .colab-df-container {\n",
              "      display:flex;\n",
              "      flex-wrap:wrap;\n",
              "      gap: 12px;\n",
              "    }\n",
              "\n",
              "    .colab-df-convert {\n",
              "      background-color: #E8F0FE;\n",
              "      border: none;\n",
              "      border-radius: 50%;\n",
              "      cursor: pointer;\n",
              "      display: none;\n",
              "      fill: #1967D2;\n",
              "      height: 32px;\n",
              "      padding: 0 0 0 0;\n",
              "      width: 32px;\n",
              "    }\n",
              "\n",
              "    .colab-df-convert:hover {\n",
              "      background-color: #E2EBFA;\n",
              "      box-shadow: 0px 1px 2px rgba(60, 64, 67, 0.3), 0px 1px 3px 1px rgba(60, 64, 67, 0.15);\n",
              "      fill: #174EA6;\n",
              "    }\n",
              "\n",
              "    [theme=dark] .colab-df-convert {\n",
              "      background-color: #3B4455;\n",
              "      fill: #D2E3FC;\n",
              "    }\n",
              "\n",
              "    [theme=dark] .colab-df-convert:hover {\n",
              "      background-color: #434B5C;\n",
              "      box-shadow: 0px 1px 3px 1px rgba(0, 0, 0, 0.15);\n",
              "      filter: drop-shadow(0px 1px 2px rgba(0, 0, 0, 0.3));\n",
              "      fill: #FFFFFF;\n",
              "    }\n",
              "  </style>\n",
              "\n",
              "      <script>\n",
              "        const buttonEl =\n",
              "          document.querySelector('#df-545eabc7-aaa9-456e-8307-24ec5703bcd3 button.colab-df-convert');\n",
              "        buttonEl.style.display =\n",
              "          google.colab.kernel.accessAllowed ? 'block' : 'none';\n",
              "\n",
              "        async function convertToInteractive(key) {\n",
              "          const element = document.querySelector('#df-545eabc7-aaa9-456e-8307-24ec5703bcd3');\n",
              "          const dataTable =\n",
              "            await google.colab.kernel.invokeFunction('convertToInteractive',\n",
              "                                                     [key], {});\n",
              "          if (!dataTable) return;\n",
              "\n",
              "          const docLinkHtml = 'Like what you see? Visit the ' +\n",
              "            '<a target=\"_blank\" href=https://colab.research.google.com/notebooks/data_table.ipynb>data table notebook</a>'\n",
              "            + ' to learn more about interactive tables.';\n",
              "          element.innerHTML = '';\n",
              "          dataTable['output_type'] = 'display_data';\n",
              "          await google.colab.output.renderOutput(dataTable, element);\n",
              "          const docLink = document.createElement('div');\n",
              "          docLink.innerHTML = docLinkHtml;\n",
              "          element.appendChild(docLink);\n",
              "        }\n",
              "      </script>\n",
              "    </div>\n",
              "  </div>\n",
              "  "
            ]
          },
          "metadata": {},
          "execution_count": 6
        }
      ]
    },
    {
      "cell_type": "code",
      "source": [
        "\n",
        "\n",
        "#Genero un funcion que me permita calcular los modelos el RSS, el R2 y el BIC\n",
        "def get_models(k, X, y):\n",
        "    \"\"\"\n",
        "    Fit all possible models that contain exactly k predictors.\n",
        "    \"\"\"\n",
        "    # List all available predictors\n",
        "    X_combos = itertools.combinations(list(X.columns), k)\n",
        "    \n",
        "    # Fit all models accumulating Residual Sum of Squares (RSS)\n",
        "    models = []\n",
        "    for X_label in X_combos:\n",
        "        # Parse patsy formula\n",
        "        X_smf = ' + '.join(X_label)\n",
        "        f     = 'eraapl ~ {}'.format(X_smf)\n",
        "        # Fit model\n",
        "        model = smf.ols(formula=f, data=pd.concat([X, y], axis=1)).fit()\n",
        "        # Return results\n",
        "        models += [(f, model)]\n",
        "    return models\n",
        "\n",
        "\n",
        "def min_rss(statsmodels):\n",
        "    \"\"\"Return model with lowest Residual Sum of Squares (RSS)\"\"\"\n",
        "    return sorted(statsmodels, key=lambda tup: tup[1].ssr)[0]\n",
        "\n",
        "\n",
        "def max_adjr2(statsmodels):\n",
        "    \"\"\"Return model with lowest R-squared\"\"\"\n",
        "    return sorted(statsmodels, reverse=True, key=lambda tup: tup[1].rsquared_adj)[0]"
      ],
      "metadata": {
        "id": "GRE89jK68iFK"
      },
      "execution_count": null,
      "outputs": []
    },
    {
      "cell_type": "code",
      "source": [
        "##Ahora lo que vamos a hacer es correr el codigo anterior buscando el mejor modelo que me arroje el menor RSS con dos variables\n",
        "\n",
        "X = data.drop(data[['eraapl', \"raapl\", \"rsandp\", \"inflation\", \"term\"]], axis=1)\n",
        "y = data['eraapl']\n",
        "\n",
        "# Establezco el número de predictores de cada subset en 2\n",
        "k = 2\n",
        "\n",
        "# Get all possible models in subset\n",
        "subset = get_models(2, X, y)\n",
        "\n",
        "# Display results\n",
        "print('This model yields the lowest RSS score for the subset of models with {} predictors:'.format(k))\n",
        "display(min_rss(subset))\n",
        "\n",
        "print('This model yields the highest adjusted R-squared score for the subset of models with {} predictors:'.format(k))\n",
        "max_adjr2(get_models(2, X, y))"
      ],
      "metadata": {
        "colab": {
          "base_uri": "https://localhost:8080/",
          "height": 121
        },
        "id": "M7ZoVmJk9C6K",
        "outputId": "d125ad0c-adfd-486d-e821-9bd1014189ee"
      },
      "execution_count": null,
      "outputs": [
        {
          "output_type": "stream",
          "name": "stdout",
          "text": [
            "This model yields the lowest RSS score for the subset of models with 2 predictors:\n"
          ]
        },
        {
          "output_type": "display_data",
          "data": {
            "text/plain": [
              "('eraapl ~ dmoney + ersandp',\n",
              " <statsmodels.regression.linear_model.RegressionResultsWrapper at 0x7fbe9470f400>)"
            ]
          },
          "metadata": {}
        },
        {
          "output_type": "stream",
          "name": "stdout",
          "text": [
            "This model yields the highest adjusted R-squared score for the subset of models with 2 predictors:\n"
          ]
        },
        {
          "output_type": "execute_result",
          "data": {
            "text/plain": [
              "('eraapl ~ dmoney + ersandp',\n",
              " <statsmodels.regression.linear_model.RegressionResultsWrapper at 0x7fbe94648a90>)"
            ]
          },
          "metadata": {},
          "execution_count": 8
        }
      ]
    },
    {
      "cell_type": "markdown",
      "source": [
        "Se observa que el modelo que menor RSS y mayor R2 es en el que se incluyen las variables de dmoney y ersandp donde el modelo estaria definido de la forma: $$eraapl = dmoney + ersandp$$"
      ],
      "metadata": {
        "id": "09ygGBIvrHj9"
      }
    },
    {
      "cell_type": "code",
      "source": [
        "X_combos = itertools.combinations(list(X.columns), 3)"
      ],
      "metadata": {
        "id": "Tw4z6RZF9qno"
      },
      "execution_count": null,
      "outputs": []
    },
    {
      "cell_type": "code",
      "source": [
        "#Ahora vamos a coger un subset de Predictores, eliminando 5 variables en las cuales tengo en cuenta mi variable dependiente\n",
        "X = data.drop(data[['eraapl', \"raapl\", \"rsandp\", \"inflation\", \"term\"]], axis=1)\n",
        "y = data['eraapl']"
      ],
      "metadata": {
        "id": "CTWp9OqETZFQ"
      },
      "execution_count": null,
      "outputs": []
    },
    {
      "cell_type": "code",
      "source": [
        "# Obtengo todos los resultados de mis modelos teniendo en cuenta las 8 variables predictoras\n",
        "model_subsets = []\n",
        "for k in range(len(X.columns)):\n",
        "    k=k+1\n",
        "    subset = get_models(k, X, y)\n",
        "    model_subsets += [subset]\n",
        "    print('Progess: k = {}, done'.format(k))"
      ],
      "metadata": {
        "colab": {
          "base_uri": "https://localhost:8080/"
        },
        "id": "B_JgPk41dfo4",
        "outputId": "12d1f98a-df80-4beb-9e31-df87068fc3ea"
      },
      "execution_count": null,
      "outputs": [
        {
          "output_type": "stream",
          "name": "stdout",
          "text": [
            "Progess: k = 1, done\n",
            "Progess: k = 2, done\n",
            "Progess: k = 3, done\n",
            "Progess: k = 4, done\n",
            "Progess: k = 5, done\n",
            "Progess: k = 6, done\n",
            "Progess: k = 7, done\n",
            "Progess: k = 8, done\n"
          ]
        }
      ]
    },
    {
      "cell_type": "code",
      "execution_count": null,
      "metadata": {
        "id": "147HtEMKGi4o",
        "outputId": "fce00d2b-cc9c-4ab5-bcac-da23f2772c57",
        "colab": {
          "base_uri": "https://localhost:8080/",
          "height": 803
        }
      },
      "outputs": [
        {
          "output_type": "display_data",
          "data": {
            "text/plain": [
              "<Figure size 432x288 with 1 Axes>"
            ],
            "image/png": "[encoded data removed]"
          },
          "metadata": {
            "needs_background": "light"
          }
        },
        {
          "output_type": "display_data",
          "data": {
            "text/plain": [
              "<Figure size 432x288 with 1 Axes>"
            ],
            "image/png": "[encoded data removed]"
          },
          "metadata": {
            "needs_background": "light"
          }
        },
        {
          "output_type": "display_data",
          "data": {
            "text/plain": [
              "<Figure size 432x288 with 1 Axes>"
            ],
            "image/png": "[encoded data removed]"
          },
          "metadata": {
            "needs_background": "light"
          }
        }
      ],
      "source": [
        "# Obtenemos el mejor rss para cada subset\n",
        "rss   = [min_rss(m)[1].ssr for m in model_subsets]\n",
        "\n",
        "# Calculamos tambien el mejor R2 para cada subset de datos\n",
        "adjr2 = [max_adjr2(m)[1].rsquared_adj for m in model_subsets]\n",
        "\n",
        "k     = np.arange(1, len(rss)+1)\n",
        "\n",
        "\n",
        "# Obtenemos el mejor criterio bayesiano\n",
        "def min_bic(statsmodels):\n",
        "    \"\"\"Return model with lowest R-squared\"\"\"\n",
        "    return sorted(statsmodels, reverse=False, key=lambda tup: tup[1].bic)[0]\n",
        "\n",
        "bic = [min_bic(m)[1].bic for m in model_subsets]\n",
        "\n",
        "\n",
        "ax = sns.lineplot(x=k, y=rss)\n",
        "plt.xlabel('k')\n",
        "plt.ylabel('rss')\n",
        "plt.show()\n",
        "\n",
        "sns.lineplot(x=k, y=adjr2)\n",
        "plt.xlabel('k')\n",
        "plt.ylabel('$R^2$')\n",
        "plt.show()\n",
        "\n",
        "sns.lineplot(x=k, y=bic)\n",
        "plt.xlabel('k')\n",
        "plt.ylabel('BIC')\n",
        "plt.show()"
      ]
    },
    {
      "cell_type": "markdown",
      "source": [
        "De estas graficas podemos concluir que la cantidad de predictores donde obtenemos las mejores estadisticas es cuando tenemos 4 o 5 predictores, en el caso de 5 tiene un ligero R2 menor a el que se obtienen con 4 pero su RSS es mucho menor por lo que se puede concluir que se deberian escoger 5 predictores para el modelo, aunque el BIC nos muestra que el numero deberia ser 2. Otra anotación importante que cabe destacar es que el R2 obtenido no es el mejor pero teniendo en cuenta mis variables predictoras y la naturaleza d elos datos de la renta variable es un resultado aceptable."
      ],
      "metadata": {
        "id": "z64u18q_stjF"
      }
    },
    {
      "cell_type": "code",
      "source": [
        "#Ahora lo que buscamos determinar es cuales son las variables que me minimizan el RSS, me maximizan el R2 y me minimizan el BIC\n",
        "best_subset_rrs = list(min_rss(model_subsets[4])[1].params.index)[1:]\n",
        "print(best_subset_rrs)\n",
        "best_subset_r2 = list(max_adjr2(model_subsets[4])[1].params.index)[1:]\n",
        "print(best_subset_r2)\n",
        "best_subset_bic = list(min_bic(model_subsets[4])[1].params.index)[1:]\n",
        "print(best_subset_bic)"
      ],
      "metadata": {
        "colab": {
          "base_uri": "https://localhost:8080/"
        },
        "id": "fEpt0sDle9MV",
        "outputId": "52a493a0-6f30-42a9-c996-cb0076272dd3"
      },
      "execution_count": null,
      "outputs": [
        {
          "output_type": "stream",
          "name": "stdout",
          "text": [
            "['dcredit', 'dmoney', 'dinflation', 'mustb3m', 'ersandp']\n",
            "['dcredit', 'dmoney', 'dinflation', 'mustb3m', 'ersandp']\n",
            "['dcredit', 'dmoney', 'dinflation', 'mustb3m', 'ersandp']\n"
          ]
        }
      ]
    },
    {
      "cell_type": "markdown",
      "source": [
        "Vemos que las variables optimas para 5 predictores son las mismas y estas son\n",
        "'dcredit', 'dmoney', 'dinflation', 'mustb3m', 'ersandp'"
      ],
      "metadata": {
        "id": "2kN5kdlVuP7W"
      }
    },
    {
      "cell_type": "markdown",
      "source": [
        "##Ahora vamos a hacer la selección por medio de los metodos de Forward and Backward Stepwise Selection"
      ],
      "metadata": {
        "id": "7uFNB39PutyI"
      }
    },
    {
      "cell_type": "code",
      "source": [
        "#Ahora calculamos con el metodo de Foward and Backward Stepwise Selection\n",
        "def scale(df):\n",
        "    \"\"\"Xi = Xi - mu(Xi) / σ(Xi)\"\"\"\n",
        "    return (df-df.mean())/(df.std())\n",
        "\n",
        "\n",
        "def forward_stepwise(X, y, results=[(0, [])]):\n",
        "    \"\"\"Perform forward stepwise variable selection as described in\n",
        "    An Introductions to Statistical Learning (p.207)\n",
        "    Returns pandas dataframe object  with results for each step\"\"\"\n",
        "    # List predictors that havent's been used so far\n",
        "    p_all    = list(X.columns)\n",
        "    p_used   = results[-1][1]\n",
        "    p_unused = [p for p in p_all if p not in p_used]\n",
        "    \n",
        "    # Job done, exit recursion\n",
        "    if not p_unused:\n",
        "        rss   = [r[0] for r in results]\n",
        "        preds = [r[1] for r in results]\n",
        "        return pd.DataFrame({'rss': rss, 'predictors': preds}).drop(0).reset_index()\n",
        "    \n",
        "    # Get rss score for each possible additional predictor\n",
        "    r = []\n",
        "    for p in p_unused:\n",
        "        f     = 'eraapl ~ {}'.format('+'.join([p]+p_used))\n",
        "        # Fit model\n",
        "        model = smf.ols(formula=f, data=pd.concat([X, y], axis=1)).fit()\n",
        "        r     += [(model.ssr, [p]+p_used)]\n",
        "    \n",
        "    # Choose predictor which yields lowest rss\n",
        "    min_rss     = sorted(r, key=lambda tup: tup[0])[0]   \n",
        "    new_results = results + [min_rss]\n",
        "    # Recursive call to self\n",
        "    return forward_stepwise(X, y, new_results)\n",
        "\n",
        "\n",
        "def backward_stepwise(X, y, results=[]):\n",
        "    \"\"\"Returns pandas dataframe object  with results for each step\"\"\"\n",
        "    # List predictors that havent's been used so far\n",
        "    p_all    = list(X.columns)\n",
        "\n",
        "    # Check if we're starting out here\n",
        "    if not results:\n",
        "        # Fit model with all features\n",
        "        f     = 'eraapl ~ {}'.format('+'.join(p_all))\n",
        "        model = smf.ols(formula=f, data=pd.concat([X, y], axis=1)).fit()\n",
        "        # Begin backward stepwise recursion\n",
        "        return backward_stepwise(X, y, [(model.ssr, p_all)])\n",
        "    else:\n",
        "        p_used = results[-1][1]\n",
        "    \n",
        "    # Job done, exit recursion\n",
        "    if len(p_used) == 1:\n",
        "        rss   = [r[0] for r in results]\n",
        "        preds = [r[1] for r in results]\n",
        "        return pd.DataFrame({'rss': rss, 'predictors': preds})    \n",
        "    \n",
        "    # Get rss score for each possible removed predictor\n",
        "    r = []\n",
        "    for p in p_used:\n",
        "        p_test = [i for i in p_used if i != p]\n",
        "        f     = 'eraapl ~ {}'.format('+'.join(p_test))\n",
        "        # Fit model\n",
        "        model = smf.ols(formula=f, data=pd.concat([X, y], axis=1)).fit()\n",
        "        r     += [(model.ssr, p_test)]\n",
        "    \n",
        "    # Choose removal of predictor which yields lowest rss\n",
        "    min_rss     = sorted(r, key=lambda tup: tup[0])[0]   \n",
        "    new_results = results + [min_rss]\n",
        "    return backward_stepwise(X, y, new_results)"
      ],
      "metadata": {
        "id": "0aAbSiWowraD"
      },
      "execution_count": null,
      "outputs": []
    },
    {
      "cell_type": "code",
      "source": [
        "#Ahora lo que buscamos hacer es ver como varia mi RSS usando las metodologias de Forward and Backward Stepwise Selection\n",
        "X = scale(X)\n",
        "\n",
        "#Para Foward\n",
        "forward_stepwise_results = forward_stepwise(X, y)\n",
        "display(HTML('<h4>Forward Stepwise Selection</h4>'))\n",
        "display(forward_stepwise_results)\n",
        "\n",
        "#Para Stepwise\n",
        "backward_stepwise_results = backward_stepwise(X, y)\n",
        "display(HTML('<h4>Backward Stepwise Selection</h4>'))\n",
        "display(backward_stepwise_results)"
      ],
      "metadata": {
        "colab": {
          "base_uri": "https://localhost:8080/",
          "height": 663
        },
        "id": "bFSqFeWqw-Yj",
        "outputId": "9cb32d4d-1099-47bc-f7a3-4864804cded1"
      },
      "execution_count": null,
      "outputs": [
        {
          "output_type": "display_data",
          "data": {
            "text/plain": [
              "<IPython.core.display.HTML object>"
            ],
            "text/html": [
              "<h4>Forward Stepwise Selection</h4>"
            ]
          },
          "metadata": {}
        },
        {
          "output_type": "display_data",
          "data": {
            "text/plain": [
              "   index           rss                                         predictors\n",
              "0      1  52464.338574                                          [ersandp]\n",
              "1      2  52262.458904                                  [dmoney, ersandp]\n",
              "2      3  51983.643564                         [mustb3m, dmoney, ersandp]\n",
              "3      4  51822.172724             [dinflation, mustb3m, dmoney, ersandp]\n",
              "4      5  51678.409294    [dcredit, dinflation, mustb3m, dmoney, ersandp]\n",
              "5      6  51596.843103  [dprod, dcredit, dinflation, mustb3m, dmoney, ...\n",
              "6      7  51537.664899  [dspread, dprod, dcredit, dinflation, mustb3m,...\n",
              "7      8  51532.354119  [rterm, dspread, dprod, dcredit, dinflation, m..."
            ],
            "text/html": [
              "\n",
              "  <div id=\"df-ba198466-ce66-4469-8b9e-689b83892d1f\">\n",
              "    <div class=\"colab-df-container\">\n",
              "      <div>\n",
              "<style scoped>\n",
              "    .dataframe tbody tr th:only-of-type {\n",
              "        vertical-align: middle;\n",
              "    }\n",
              "\n",
              "    .dataframe tbody tr th {\n",
              "        vertical-align: top;\n",
              "    }\n",
              "\n",
              "    .dataframe thead th {\n",
              "        text-align: right;\n",
              "    }\n",
              "</style>\n",
              "<table border=\"1\" class=\"dataframe\">\n",
              "  <thead>\n",
              "    <tr style=\"text-align: right;\">\n",
              "      <th></th>\n",
              "      <th>index</th>\n",
              "      <th>rss</th>\n",
              "      <th>predictors</th>\n",
              "    </tr>\n",
              "  </thead>\n",
              "  <tbody>\n",
              "    <tr>\n",
              "      <th>0</th>\n",
              "      <td>1</td>\n",
              "      <td>52464.338574</td>\n",
              "      <td>[ersandp]</td>\n",
              "    </tr>\n",
              "    <tr>\n",
              "      <th>1</th>\n",
              "      <td>2</td>\n",
              "      <td>52262.458904</td>\n",
              "      <td>[dmoney, ersandp]</td>\n",
              "    </tr>\n",
              "    <tr>\n",
              "      <th>2</th>\n",
              "      <td>3</td>\n",
              "      <td>51983.643564</td>\n",
              "      <td>[mustb3m, dmoney, ersandp]</td>\n",
              "    </tr>\n",
              "    <tr>\n",
              "      <th>3</th>\n",
              "      <td>4</td>\n",
              "      <td>51822.172724</td>\n",
              "      <td>[dinflation, mustb3m, dmoney, ersandp]</td>\n",
              "    </tr>\n",
              "    <tr>\n",
              "      <th>4</th>\n",
              "      <td>5</td>\n",
              "      <td>51678.409294</td>\n",
              "      <td>[dcredit, dinflation, mustb3m, dmoney, ersandp]</td>\n",
              "    </tr>\n",
              "    <tr>\n",
              "      <th>5</th>\n",
              "      <td>6</td>\n",
              "      <td>51596.843103</td>\n",
              "      <td>[dprod, dcredit, dinflation, mustb3m, dmoney, ...</td>\n",
              "    </tr>\n",
              "    <tr>\n",
              "      <th>6</th>\n",
              "      <td>7</td>\n",
              "      <td>51537.664899</td>\n",
              "      <td>[dspread, dprod, dcredit, dinflation, mustb3m,...</td>\n",
              "    </tr>\n",
              "    <tr>\n",
              "      <th>7</th>\n",
              "      <td>8</td>\n",
              "      <td>51532.354119</td>\n",
              "      <td>[rterm, dspread, dprod, dcredit, dinflation, m...</td>\n",
              "    </tr>\n",
              "  </tbody>\n",
              "</table>\n",
              "</div>\n",
              "      <button class=\"colab-df-convert\" onclick=\"convertToInteractive('df-ba198466-ce66-4469-8b9e-689b83892d1f')\"\n",
              "              title=\"Convert this dataframe to an interactive table.\"\n",
              "              style=\"display:none;\">\n",
              "        \n",
              "  <svg xmlns=\"http://www.w3.org/2000/svg\" height=\"24px\"viewBox=\"0 0 24 24\"\n",
              "       width=\"24px\">\n",
              "    <path d=\"M0 0h24v24H0V0z\" fill=\"none\"/>\n",
              "    <path d=\"M18.56 5.44l.94 2.06.94-2.06 2.06-.94-2.06-.94-.94-2.06-.94 2.06-2.06.94zm-11 1L8.5 8.5l.94-2.06 2.06-.94-2.06-.94L8.5 2.5l-.94 2.06-2.06.94zm10 10l.94 2.06.94-2.06 2.06-.94-2.06-.94-.94-2.06-.94 2.06-2.06.94z\"/><path d=\"M17.41 7.96l-1.37-1.37c-.4-.4-.92-.59-1.43-.59-.52 0-1.04.2-1.43.59L10.3 9.45l-7.72 7.72c-.78.78-.78 2.05 0 2.83L4 21.41c.39.39.9.59 1.41.59.51 0 1.02-.2 1.41-.59l7.78-7.78 2.81-2.81c.8-.78.8-2.07 0-2.86zM5.41 20L4 18.59l7.72-7.72 1.47 1.35L5.41 20z\"/>\n",
              "  </svg>\n",
              "      </button>\n",
              "      \n",
              "  <style>\n",
              "    .colab-df-container {\n",
              "      display:flex;\n",
              "      flex-wrap:wrap;\n",
              "      gap: 12px;\n",
              "    }\n",
              "\n",
              "    .colab-df-convert {\n",
              "      background-color: #E8F0FE;\n",
              "      border: none;\n",
              "      border-radius: 50%;\n",
              "      cursor: pointer;\n",
              "      display: none;\n",
              "      fill: #1967D2;\n",
              "      height: 32px;\n",
              "      padding: 0 0 0 0;\n",
              "      width: 32px;\n",
              "    }\n",
              "\n",
              "    .colab-df-convert:hover {\n",
              "      background-color: #E2EBFA;\n",
              "      box-shadow: 0px 1px 2px rgba(60, 64, 67, 0.3), 0px 1px 3px 1px rgba(60, 64, 67, 0.15);\n",
              "      fill: #174EA6;\n",
              "    }\n",
              "\n",
              "    [theme=dark] .colab-df-convert {\n",
              "      background-color: #3B4455;\n",
              "      fill: #D2E3FC;\n",
              "    }\n",
              "\n",
              "    [theme=dark] .colab-df-convert:hover {\n",
              "      background-color: #434B5C;\n",
              "      box-shadow: 0px 1px 3px 1px rgba(0, 0, 0, 0.15);\n",
              "      filter: drop-shadow(0px 1px 2px rgba(0, 0, 0, 0.3));\n",
              "      fill: #FFFFFF;\n",
              "    }\n",
              "  </style>\n",
              "\n",
              "      <script>\n",
              "        const buttonEl =\n",
              "          document.querySelector('#df-ba198466-ce66-4469-8b9e-689b83892d1f button.colab-df-convert');\n",
              "        buttonEl.style.display =\n",
              "          google.colab.kernel.accessAllowed ? 'block' : 'none';\n",
              "\n",
              "        async function convertToInteractive(key) {\n",
              "          const element = document.querySelector('#df-ba198466-ce66-4469-8b9e-689b83892d1f');\n",
              "          const dataTable =\n",
              "            await google.colab.kernel.invokeFunction('convertToInteractive',\n",
              "                                                     [key], {});\n",
              "          if (!dataTable) return;\n",
              "\n",
              "          const docLinkHtml = 'Like what you see? Visit the ' +\n",
              "            '<a target=\"_blank\" href=https://colab.research.google.com/notebooks/data_table.ipynb>data table notebook</a>'\n",
              "            + ' to learn more about interactive tables.';\n",
              "          element.innerHTML = '';\n",
              "          dataTable['output_type'] = 'display_data';\n",
              "          await google.colab.output.renderOutput(dataTable, element);\n",
              "          const docLink = document.createElement('div');\n",
              "          docLink.innerHTML = docLinkHtml;\n",
              "          element.appendChild(docLink);\n",
              "        }\n",
              "      </script>\n",
              "    </div>\n",
              "  </div>\n",
              "  "
            ]
          },
          "metadata": {}
        },
        {
          "output_type": "display_data",
          "data": {
            "text/plain": [
              "<IPython.core.display.HTML object>"
            ],
            "text/html": [
              "<h4>Backward Stepwise Selection</h4>"
            ]
          },
          "metadata": {}
        },
        {
          "output_type": "display_data",
          "data": {
            "text/plain": [
              "            rss                                         predictors\n",
              "0  51532.354119  [dspread, dcredit, dprod, dmoney, dinflation, ...\n",
              "1  51537.664899  [dspread, dcredit, dprod, dmoney, dinflation, ...\n",
              "2  51596.843103  [dcredit, dprod, dmoney, dinflation, mustb3m, ...\n",
              "3  51678.409294    [dcredit, dmoney, dinflation, mustb3m, ersandp]\n",
              "4  51822.172724             [dmoney, dinflation, mustb3m, ersandp]\n",
              "5  51983.643564                         [dmoney, mustb3m, ersandp]\n",
              "6  52262.458904                                  [dmoney, ersandp]\n",
              "7  52464.338574                                          [ersandp]"
            ],
            "text/html": [
              "\n",
              "  <div id=\"df-da144ae0-7adf-4ba1-8435-ef5d892f517b\">\n",
              "    <div class=\"colab-df-container\">\n",
              "      <div>\n",
              "<style scoped>\n",
              "    .dataframe tbody tr th:only-of-type {\n",
              "        vertical-align: middle;\n",
              "    }\n",
              "\n",
              "    .dataframe tbody tr th {\n",
              "        vertical-align: top;\n",
              "    }\n",
              "\n",
              "    .dataframe thead th {\n",
              "        text-align: right;\n",
              "    }\n",
              "</style>\n",
              "<table border=\"1\" class=\"dataframe\">\n",
              "  <thead>\n",
              "    <tr style=\"text-align: right;\">\n",
              "      <th></th>\n",
              "      <th>rss</th>\n",
              "      <th>predictors</th>\n",
              "    </tr>\n",
              "  </thead>\n",
              "  <tbody>\n",
              "    <tr>\n",
              "      <th>0</th>\n",
              "      <td>51532.354119</td>\n",
              "      <td>[dspread, dcredit, dprod, dmoney, dinflation, ...</td>\n",
              "    </tr>\n",
              "    <tr>\n",
              "      <th>1</th>\n",
              "      <td>51537.664899</td>\n",
              "      <td>[dspread, dcredit, dprod, dmoney, dinflation, ...</td>\n",
              "    </tr>\n",
              "    <tr>\n",
              "      <th>2</th>\n",
              "      <td>51596.843103</td>\n",
              "      <td>[dcredit, dprod, dmoney, dinflation, mustb3m, ...</td>\n",
              "    </tr>\n",
              "    <tr>\n",
              "      <th>3</th>\n",
              "      <td>51678.409294</td>\n",
              "      <td>[dcredit, dmoney, dinflation, mustb3m, ersandp]</td>\n",
              "    </tr>\n",
              "    <tr>\n",
              "      <th>4</th>\n",
              "      <td>51822.172724</td>\n",
              "      <td>[dmoney, dinflation, mustb3m, ersandp]</td>\n",
              "    </tr>\n",
              "    <tr>\n",
              "      <th>5</th>\n",
              "      <td>51983.643564</td>\n",
              "      <td>[dmoney, mustb3m, ersandp]</td>\n",
              "    </tr>\n",
              "    <tr>\n",
              "      <th>6</th>\n",
              "      <td>52262.458904</td>\n",
              "      <td>[dmoney, ersandp]</td>\n",
              "    </tr>\n",
              "    <tr>\n",
              "      <th>7</th>\n",
              "      <td>52464.338574</td>\n",
              "      <td>[ersandp]</td>\n",
              "    </tr>\n",
              "  </tbody>\n",
              "</table>\n",
              "</div>\n",
              "      <button class=\"colab-df-convert\" onclick=\"convertToInteractive('df-da144ae0-7adf-4ba1-8435-ef5d892f517b')\"\n",
              "              title=\"Convert this dataframe to an interactive table.\"\n",
              "              style=\"display:none;\">\n",
              "        \n",
              "  <svg xmlns=\"http://www.w3.org/2000/svg\" height=\"24px\"viewBox=\"0 0 24 24\"\n",
              "       width=\"24px\">\n",
              "    <path d=\"M0 0h24v24H0V0z\" fill=\"none\"/>\n",
              "    <path d=\"M18.56 5.44l.94 2.06.94-2.06 2.06-.94-2.06-.94-.94-2.06-.94 2.06-2.06.94zm-11 1L8.5 8.5l.94-2.06 2.06-.94-2.06-.94L8.5 2.5l-.94 2.06-2.06.94zm10 10l.94 2.06.94-2.06 2.06-.94-2.06-.94-.94-2.06-.94 2.06-2.06.94z\"/><path d=\"M17.41 7.96l-1.37-1.37c-.4-.4-.92-.59-1.43-.59-.52 0-1.04.2-1.43.59L10.3 9.45l-7.72 7.72c-.78.78-.78 2.05 0 2.83L4 21.41c.39.39.9.59 1.41.59.51 0 1.02-.2 1.41-.59l7.78-7.78 2.81-2.81c.8-.78.8-2.07 0-2.86zM5.41 20L4 18.59l7.72-7.72 1.47 1.35L5.41 20z\"/>\n",
              "  </svg>\n",
              "      </button>\n",
              "      \n",
              "  <style>\n",
              "    .colab-df-container {\n",
              "      display:flex;\n",
              "      flex-wrap:wrap;\n",
              "      gap: 12px;\n",
              "    }\n",
              "\n",
              "    .colab-df-convert {\n",
              "      background-color: #E8F0FE;\n",
              "      border: none;\n",
              "      border-radius: 50%;\n",
              "      cursor: pointer;\n",
              "      display: none;\n",
              "      fill: #1967D2;\n",
              "      height: 32px;\n",
              "      padding: 0 0 0 0;\n",
              "      width: 32px;\n",
              "    }\n",
              "\n",
              "    .colab-df-convert:hover {\n",
              "      background-color: #E2EBFA;\n",
              "      box-shadow: 0px 1px 2px rgba(60, 64, 67, 0.3), 0px 1px 3px 1px rgba(60, 64, 67, 0.15);\n",
              "      fill: #174EA6;\n",
              "    }\n",
              "\n",
              "    [theme=dark] .colab-df-convert {\n",
              "      background-color: #3B4455;\n",
              "      fill: #D2E3FC;\n",
              "    }\n",
              "\n",
              "    [theme=dark] .colab-df-convert:hover {\n",
              "      background-color: #434B5C;\n",
              "      box-shadow: 0px 1px 3px 1px rgba(0, 0, 0, 0.15);\n",
              "      filter: drop-shadow(0px 1px 2px rgba(0, 0, 0, 0.3));\n",
              "      fill: #FFFFFF;\n",
              "    }\n",
              "  </style>\n",
              "\n",
              "      <script>\n",
              "        const buttonEl =\n",
              "          document.querySelector('#df-da144ae0-7adf-4ba1-8435-ef5d892f517b button.colab-df-convert');\n",
              "        buttonEl.style.display =\n",
              "          google.colab.kernel.accessAllowed ? 'block' : 'none';\n",
              "\n",
              "        async function convertToInteractive(key) {\n",
              "          const element = document.querySelector('#df-da144ae0-7adf-4ba1-8435-ef5d892f517b');\n",
              "          const dataTable =\n",
              "            await google.colab.kernel.invokeFunction('convertToInteractive',\n",
              "                                                     [key], {});\n",
              "          if (!dataTable) return;\n",
              "\n",
              "          const docLinkHtml = 'Like what you see? Visit the ' +\n",
              "            '<a target=\"_blank\" href=https://colab.research.google.com/notebooks/data_table.ipynb>data table notebook</a>'\n",
              "            + ' to learn more about interactive tables.';\n",
              "          element.innerHTML = '';\n",
              "          dataTable['output_type'] = 'display_data';\n",
              "          await google.colab.output.renderOutput(dataTable, element);\n",
              "          const docLink = document.createElement('div');\n",
              "          docLink.innerHTML = docLinkHtml;\n",
              "          element.appendChild(docLink);\n",
              "        }\n",
              "      </script>\n",
              "    </div>\n",
              "  </div>\n",
              "  "
            ]
          },
          "metadata": {}
        }
      ]
    },
    {
      "cell_type": "code",
      "source": [
        "display(HTML('<h4>Comparison of methods for subset with 5 predictors</h4>'))\n",
        "print('Best Subset Selection       : {}'.format(sorted(best_subset_rrs)))\n",
        "print('Forward Stepwise Selection  : {}'.format(sorted(forward_stepwise_results.loc[4]['predictors'])))\n",
        "print('Backward Stepwise Selection : {}'.format(sorted(backward_stepwise_results.loc[3]['predictors'])))\n",
        "#Los 3 metodos escogieron los mismos 5 predictores"
      ],
      "metadata": {
        "colab": {
          "base_uri": "https://localhost:8080/",
          "height": 109
        },
        "id": "6sU1eS5vxqpb",
        "outputId": "919dff5d-e0dd-4779-c9ef-33f06fd0b125"
      },
      "execution_count": null,
      "outputs": [
        {
          "output_type": "display_data",
          "data": {
            "text/plain": [
              "<IPython.core.display.HTML object>"
            ],
            "text/html": [
              "<h4>Comparison of methods for subset with 5 predictors</h4>"
            ]
          },
          "metadata": {}
        },
        {
          "output_type": "stream",
          "name": "stdout",
          "text": [
            "Best Subset Selection       : ['dcredit', 'dinflation', 'dmoney', 'ersandp', 'mustb3m']\n",
            "Forward Stepwise Selection  : ['dcredit', 'dinflation', 'dmoney', 'ersandp', 'mustb3m']\n",
            "Backward Stepwise Selection : ['dcredit', 'dinflation', 'dmoney', 'ersandp', 'mustb3m']\n"
          ]
        }
      ]
    },
    {
      "cell_type": "markdown",
      "source": [
        "De esta manera concluimos que los 3 metodos escogieron las mismas variables independientes."
      ],
      "metadata": {
        "id": "eZNuEiIKxgI9"
      }
    },
    {
      "cell_type": "markdown",
      "source": [
        "##Usando el Approach de Validación y Cross-Validation"
      ],
      "metadata": {
        "id": "Ge_iMMsWxw9z"
      }
    },
    {
      "cell_type": "code",
      "source": [
        "#Escogiendo el modelo usando el test de validación y el Cross-Validation\n",
        "def best_subset_rss(X, y):\n",
        "    \"\"\"Perform best subset selection using Residual Sum of Squares to\n",
        "    select best model in each subset.\n",
        "    Notes: highly computationally expensive for large number of features in  X\n",
        "    Maxes out my laptop for p > 14\"\"\"\n",
        "    # get all model results\n",
        "    model_subsets = []\n",
        "    for k in range(len(X.columns)):\n",
        "        k=k+1\n",
        "        subset = get_models(k, X, y)\n",
        "        model_subsets += [subset]\n",
        "        print('Best subset selected: k = {}/{}, done'.format(k, len(X.columns)))\n",
        "    # Get best rss score for each subset\n",
        "    return [min_rss(m) for m in model_subsets]\n",
        "\n",
        "def mse(y_hat, y):\n",
        "    \"\"\"Calculate Mean Squared Error\"\"\"\n",
        "    return np.sum(np.square(y_hat - y)) / y.size"
      ],
      "metadata": {
        "id": "h5cQnyGgyCVF"
      },
      "execution_count": null,
      "outputs": []
    },
    {
      "cell_type": "code",
      "source": [
        "# CCreamos un indicie que me arrastre el 50% de los datos\n",
        "np.random.seed(1)\n",
        "train = np.random.rand(len(data)) < 0.5\n",
        "\n",
        "response   = 'eraapl'\n",
        "\n",
        "# Asignamos datos de testeo y de entrenamiento\n",
        "X_train = data[train][['dspread', 'dcredit', 'dprod', 'dmoney','dinflation', 'mustb3m', 'rterm', 'ersandp']]\n",
        "X_test  = data[~train][['dspread', 'dcredit', 'dprod', 'dmoney','dinflation', 'mustb3m', 'rterm', 'ersandp']]\n",
        "y_train = data[train][response]\n",
        "y_test  = data[~train][response]"
      ],
      "metadata": {
        "id": "qh3mQbAnyMxY"
      },
      "execution_count": null,
      "outputs": []
    },
    {
      "cell_type": "code",
      "source": [
        "# Perform best_subset selection\n",
        "best_subsets = best_subset_rss(X_train, y_train)"
      ],
      "metadata": {
        "colab": {
          "base_uri": "https://localhost:8080/"
        },
        "id": "7jeDS8-uyec-",
        "outputId": "78a0d81c-c501-4af8-b3fe-9863e06c6746"
      },
      "execution_count": null,
      "outputs": [
        {
          "output_type": "stream",
          "name": "stdout",
          "text": [
            "Best subset selected: k = 1/8, done\n",
            "Best subset selected: k = 2/8, done\n",
            "Best subset selected: k = 3/8, done\n",
            "Best subset selected: k = 4/8, done\n",
            "Best subset selected: k = 5/8, done\n",
            "Best subset selected: k = 6/8, done\n",
            "Best subset selected: k = 7/8, done\n",
            "Best subset selected: k = 8/8, done\n"
          ]
        }
      ]
    },
    {
      "cell_type": "code",
      "source": [
        "# Using 50% hold out set\n",
        "# Measure mean squared error for each model selected by best subset selection\n",
        "MSEs = []\n",
        "for m in best_subsets:\n",
        "    model = m[1]\n",
        "    y_hat = model.predict(X_test)\n",
        "    r     = mse(y_hat, y_test)\n",
        "    MSEs += [r]\n",
        "\n",
        "results = pd.DataFrame({'predictors': np.arange(1, 9), 'MSE': MSEs})\n",
        "display(results)\n",
        "sns.lineplot(x='predictors', y='MSE', data=results);"
      ],
      "metadata": {
        "colab": {
          "base_uri": "https://localhost:8080/",
          "height": 562
        },
        "id": "FQXOUjt-ymZQ",
        "outputId": "e78ade6e-95ec-45aa-e3e3-3256b1962c76"
      },
      "execution_count": null,
      "outputs": [
        {
          "output_type": "display_data",
          "data": {
            "text/plain": [
              "   predictors         MSE\n",
              "0           1  147.645352\n",
              "1           2  148.086438\n",
              "2           3  150.239675\n",
              "3           4  151.471466\n",
              "4           5  150.916077\n",
              "5           6  150.590985\n",
              "6           7  149.287598\n",
              "7           8  149.872107"
            ],
            "text/html": [
              "\n",
              "  <div id=\"df-00442418-ed0e-46d6-9d11-95dc921cc381\">\n",
              "    <div class=\"colab-df-container\">\n",
              "      <div>\n",
              "<style scoped>\n",
              "    .dataframe tbody tr th:only-of-type {\n",
              "        vertical-align: middle;\n",
              "    }\n",
              "\n",
              "    .dataframe tbody tr th {\n",
              "        vertical-align: top;\n",
              "    }\n",
              "\n",
              "    .dataframe thead th {\n",
              "        text-align: right;\n",
              "    }\n",
              "</style>\n",
              "<table border=\"1\" class=\"dataframe\">\n",
              "  <thead>\n",
              "    <tr style=\"text-align: right;\">\n",
              "      <th></th>\n",
              "      <th>predictors</th>\n",
              "      <th>MSE</th>\n",
              "    </tr>\n",
              "  </thead>\n",
              "  <tbody>\n",
              "    <tr>\n",
              "      <th>0</th>\n",
              "      <td>1</td>\n",
              "      <td>147.645352</td>\n",
              "    </tr>\n",
              "    <tr>\n",
              "      <th>1</th>\n",
              "      <td>2</td>\n",
              "      <td>148.086438</td>\n",
              "    </tr>\n",
              "    <tr>\n",
              "      <th>2</th>\n",
              "      <td>3</td>\n",
              "      <td>150.239675</td>\n",
              "    </tr>\n",
              "    <tr>\n",
              "      <th>3</th>\n",
              "      <td>4</td>\n",
              "      <td>151.471466</td>\n",
              "    </tr>\n",
              "    <tr>\n",
              "      <th>4</th>\n",
              "      <td>5</td>\n",
              "      <td>150.916077</td>\n",
              "    </tr>\n",
              "    <tr>\n",
              "      <th>5</th>\n",
              "      <td>6</td>\n",
              "      <td>150.590985</td>\n",
              "    </tr>\n",
              "    <tr>\n",
              "      <th>6</th>\n",
              "      <td>7</td>\n",
              "      <td>149.287598</td>\n",
              "    </tr>\n",
              "    <tr>\n",
              "      <th>7</th>\n",
              "      <td>8</td>\n",
              "      <td>149.872107</td>\n",
              "    </tr>\n",
              "  </tbody>\n",
              "</table>\n",
              "</div>\n",
              "      <button class=\"colab-df-convert\" onclick=\"convertToInteractive('df-00442418-ed0e-46d6-9d11-95dc921cc381')\"\n",
              "              title=\"Convert this dataframe to an interactive table.\"\n",
              "              style=\"display:none;\">\n",
              "        \n",
              "  <svg xmlns=\"http://www.w3.org/2000/svg\" height=\"24px\"viewBox=\"0 0 24 24\"\n",
              "       width=\"24px\">\n",
              "    <path d=\"M0 0h24v24H0V0z\" fill=\"none\"/>\n",
              "    <path d=\"M18.56 5.44l.94 2.06.94-2.06 2.06-.94-2.06-.94-.94-2.06-.94 2.06-2.06.94zm-11 1L8.5 8.5l.94-2.06 2.06-.94-2.06-.94L8.5 2.5l-.94 2.06-2.06.94zm10 10l.94 2.06.94-2.06 2.06-.94-2.06-.94-.94-2.06-.94 2.06-2.06.94z\"/><path d=\"M17.41 7.96l-1.37-1.37c-.4-.4-.92-.59-1.43-.59-.52 0-1.04.2-1.43.59L10.3 9.45l-7.72 7.72c-.78.78-.78 2.05 0 2.83L4 21.41c.39.39.9.59 1.41.59.51 0 1.02-.2 1.41-.59l7.78-7.78 2.81-2.81c.8-.78.8-2.07 0-2.86zM5.41 20L4 18.59l7.72-7.72 1.47 1.35L5.41 20z\"/>\n",
              "  </svg>\n",
              "      </button>\n",
              "      \n",
              "  <style>\n",
              "    .colab-df-container {\n",
              "      display:flex;\n",
              "      flex-wrap:wrap;\n",
              "      gap: 12px;\n",
              "    }\n",
              "\n",
              "    .colab-df-convert {\n",
              "      background-color: #E8F0FE;\n",
              "      border: none;\n",
              "      border-radius: 50%;\n",
              "      cursor: pointer;\n",
              "      display: none;\n",
              "      fill: #1967D2;\n",
              "      height: 32px;\n",
              "      padding: 0 0 0 0;\n",
              "      width: 32px;\n",
              "    }\n",
              "\n",
              "    .colab-df-convert:hover {\n",
              "      background-color: #E2EBFA;\n",
              "      box-shadow: 0px 1px 2px rgba(60, 64, 67, 0.3), 0px 1px 3px 1px rgba(60, 64, 67, 0.15);\n",
              "      fill: #174EA6;\n",
              "    }\n",
              "\n",
              "    [theme=dark] .colab-df-convert {\n",
              "      background-color: #3B4455;\n",
              "      fill: #D2E3FC;\n",
              "    }\n",
              "\n",
              "    [theme=dark] .colab-df-convert:hover {\n",
              "      background-color: #434B5C;\n",
              "      box-shadow: 0px 1px 3px 1px rgba(0, 0, 0, 0.15);\n",
              "      filter: drop-shadow(0px 1px 2px rgba(0, 0, 0, 0.3));\n",
              "      fill: #FFFFFF;\n",
              "    }\n",
              "  </style>\n",
              "\n",
              "      <script>\n",
              "        const buttonEl =\n",
              "          document.querySelector('#df-00442418-ed0e-46d6-9d11-95dc921cc381 button.colab-df-convert');\n",
              "        buttonEl.style.display =\n",
              "          google.colab.kernel.accessAllowed ? 'block' : 'none';\n",
              "\n",
              "        async function convertToInteractive(key) {\n",
              "          const element = document.querySelector('#df-00442418-ed0e-46d6-9d11-95dc921cc381');\n",
              "          const dataTable =\n",
              "            await google.colab.kernel.invokeFunction('convertToInteractive',\n",
              "                                                     [key], {});\n",
              "          if (!dataTable) return;\n",
              "\n",
              "          const docLinkHtml = 'Like what you see? Visit the ' +\n",
              "            '<a target=\"_blank\" href=https://colab.research.google.com/notebooks/data_table.ipynb>data table notebook</a>'\n",
              "            + ' to learn more about interactive tables.';\n",
              "          element.innerHTML = '';\n",
              "          dataTable['output_type'] = 'display_data';\n",
              "          await google.colab.output.renderOutput(dataTable, element);\n",
              "          const docLink = document.createElement('div');\n",
              "          docLink.innerHTML = docLinkHtml;\n",
              "          element.appendChild(docLink);\n",
              "        }\n",
              "      </script>\n",
              "    </div>\n",
              "  </div>\n",
              "  "
            ]
          },
          "metadata": {}
        },
        {
          "output_type": "display_data",
          "data": {
            "text/plain": [
              "<Figure size 432x288 with 1 Axes>"
            ],
            "image/png": "[encoded data removed]"
          },
          "metadata": {
            "needs_background": "light"
          }
        }
      ]
    },
    {
      "cell_type": "markdown",
      "source": [
        "Usando el 50% de los datos del dataset para calcular el error cuadratico medio observamos que la cantidad de predictores optima se encuentra entre 1 y 2 predictores"
      ],
      "metadata": {
        "id": "ckSlYBYByEB8"
      }
    },
    {
      "cell_type": "code",
      "source": [
        "# Which 2 predictors did best subset selection choose based on the TRAINING set?\n",
        "best_subsets[1][0]"
      ],
      "metadata": {
        "colab": {
          "base_uri": "https://localhost:8080/",
          "height": 36
        },
        "id": "jdtwsk99y7P_",
        "outputId": "e1336060-e4f8-499a-c887-49098bb8b4f6"
      },
      "execution_count": null,
      "outputs": [
        {
          "output_type": "execute_result",
          "data": {
            "text/plain": [
              "'eraapl ~ dmoney + ersandp'"
            ],
            "application/vnd.google.colaboratory.intrinsic+json": {
              "type": "string"
            }
          },
          "metadata": {},
          "execution_count": 21
        }
      ]
    },
    {
      "cell_type": "markdown",
      "source": [
        "Usando dos predictores tenemos que las variables independientes que me minimizan mi error cuadratico medio son dmoney y ersandp"
      ],
      "metadata": {
        "id": "-BafCfn-y3JY"
      }
    },
    {
      "cell_type": "code",
      "source": [
        "# Which 2 predictors does best subset selection choose based on the FULL set?\n",
        "best_subsets_full = best_subset_rss(data[['dspread', 'dcredit', 'dprod', 'dmoney','dinflation', 'mustb3m', 'rterm', 'ersandp']], data['eraapl'])\n",
        "best_subsets_full[1][0]"
      ],
      "metadata": {
        "colab": {
          "base_uri": "https://localhost:8080/",
          "height": 174
        },
        "id": "TEAVRPfYzQm4",
        "outputId": "596e873a-7304-4eb6-906e-f18b2d80420f"
      },
      "execution_count": null,
      "outputs": [
        {
          "output_type": "stream",
          "name": "stdout",
          "text": [
            "Best subset selected: k = 1/8, done\n",
            "Best subset selected: k = 2/8, done\n",
            "Best subset selected: k = 3/8, done\n",
            "Best subset selected: k = 4/8, done\n",
            "Best subset selected: k = 5/8, done\n",
            "Best subset selected: k = 6/8, done\n",
            "Best subset selected: k = 7/8, done\n",
            "Best subset selected: k = 8/8, done\n"
          ]
        },
        {
          "output_type": "execute_result",
          "data": {
            "text/plain": [
              "'eraapl ~ dmoney + ersandp'"
            ],
            "application/vnd.google.colaboratory.intrinsic+json": {
              "type": "string"
            }
          },
          "metadata": {},
          "execution_count": 22
        }
      ]
    },
    {
      "cell_type": "markdown",
      "source": [
        "De aca podemos concluir que ambos modelos usan los mismos predictores"
      ],
      "metadata": {
        "id": "Esu5JUMFzPSI"
      }
    },
    {
      "cell_type": "code",
      "source": [
        "#Ahora lo observamos con el metodo del Cross validation\n",
        "def cross_val(formula, X, y, k):\n",
        "    \"\"\"Perform k-fold cross validation to return mean MSE score\n",
        "    Expects formula as Patsy formula\"\"\"\n",
        "    # Split dataset into k-folds\n",
        "    # Note: np.array_split doesn't raise excpetion is folds are unequal in size\n",
        "    X_folds = np.array_split(X, k)\n",
        "    y_folds = np.array_split(y, k)\n",
        "    \n",
        "    MSEs = []\n",
        "    for f in np.arange(len(X_folds)):\n",
        "        # Create training and test sets\n",
        "        X_test  = X_folds[f]\n",
        "        y_test  = y_folds[f]\n",
        "        X_train = X.drop(X_folds[f].index)\n",
        "        y_train = y.drop(y_folds[f].index)\n",
        "        \n",
        "        # Fit model\n",
        "        model = smf.ols(formula=formula, data=pd.concat([X_train, y_train], axis=1)).fit()\n",
        "        \n",
        "        # Measure MSE\n",
        "        y_hat = model.predict(X_test)\n",
        "        MSEs += [mse(y_hat, y_test)]\n",
        "    return (MSEs, formula)"
      ],
      "metadata": {
        "id": "pYp1JyJ5zkeS"
      },
      "execution_count": null,
      "outputs": []
    },
    {
      "cell_type": "code",
      "source": [
        "# Get best subsets of predictors for full dataset\n",
        "\n",
        "best_subsets_full = best_subset_rss(X, y)"
      ],
      "metadata": {
        "colab": {
          "base_uri": "https://localhost:8080/"
        },
        "id": "YEPXHnG9zq4L",
        "outputId": "40dfdc02-56f0-455f-d813-221eabe9cdf4"
      },
      "execution_count": null,
      "outputs": [
        {
          "output_type": "stream",
          "name": "stdout",
          "text": [
            "Best subset selected: k = 1/8, done\n",
            "Best subset selected: k = 2/8, done\n",
            "Best subset selected: k = 3/8, done\n",
            "Best subset selected: k = 4/8, done\n",
            "Best subset selected: k = 5/8, done\n",
            "Best subset selected: k = 6/8, done\n",
            "Best subset selected: k = 7/8, done\n",
            "Best subset selected: k = 8/8, done\n"
          ]
        }
      ]
    },
    {
      "cell_type": "code",
      "source": [
        "# Perform cross validation for each subset of predictors\n",
        "results = []\n",
        "for sub in best_subsets_full:\n",
        "    results += [cross_val(sub[0], X, y, 10)]\n",
        "\n",
        "results_a_df = pd.DataFrame({'predictors': list(np.arange(1, 9)),\n",
        "                           'MSE_mean': [np.mean(i[0]) for i in results],\n",
        "                           'MSE_folds': [i[0] for i in results],\n",
        "                           'Model': [i[1] for i in results]})\n",
        "display(results_a_df)\n"
      ],
      "metadata": {
        "colab": {
          "base_uri": "https://localhost:8080/",
          "height": 300
        },
        "id": "DqWKm3fWzv7r",
        "outputId": "25565f20-eea8-403c-98d0-bbadefdb2eb2"
      },
      "execution_count": null,
      "outputs": [
        {
          "output_type": "display_data",
          "data": {
            "text/plain": [
              "   predictors    MSE_mean                                          MSE_folds  \\\n",
              "0           1  138.786992  [93.34089851119352, 136.62664761202365, 166.32...   \n",
              "1           2  138.414434  [93.26174179909769, 136.1113925110296, 166.889...   \n",
              "2           3  138.361890  [100.57355660618944, 133.84036639075498, 165.5...   \n",
              "3           4  138.444514  [96.66872449335831, 133.0443013826184, 165.171...   \n",
              "4           5  138.309037  [95.72647725152626, 132.11623375002893, 164.77...   \n",
              "5           6  138.574721  [95.49744738534642, 135.48184403718113, 164.49...   \n",
              "6           7  138.869012  [95.2918366737041, 134.86022564160115, 163.733...   \n",
              "7           8  139.752867  [97.57903051590786, 135.32157956864924, 165.57...   \n",
              "\n",
              "                                               Model  \n",
              "0                                   eraapl ~ ersandp  \n",
              "1                          eraapl ~ dmoney + ersandp  \n",
              "2                eraapl ~ dmoney + mustb3m + ersandp  \n",
              "3   eraapl ~ dmoney + dinflation + mustb3m + ersandp  \n",
              "4  eraapl ~ dcredit + dmoney + dinflation + mustb...  \n",
              "5  eraapl ~ dcredit + dprod + dmoney + dinflation...  \n",
              "6  eraapl ~ dspread + dcredit + dprod + dmoney + ...  \n",
              "7  eraapl ~ dspread + dcredit + dprod + dmoney + ...  "
            ],
            "text/html": [
              "\n",
              "  <div id=\"df-fa034d32-0383-47a6-98fc-6a13072f7add\">\n",
              "    <div class=\"colab-df-container\">\n",
              "      <div>\n",
              "<style scoped>\n",
              "    .dataframe tbody tr th:only-of-type {\n",
              "        vertical-align: middle;\n",
              "    }\n",
              "\n",
              "    .dataframe tbody tr th {\n",
              "        vertical-align: top;\n",
              "    }\n",
              "\n",
              "    .dataframe thead th {\n",
              "        text-align: right;\n",
              "    }\n",
              "</style>\n",
              "<table border=\"1\" class=\"dataframe\">\n",
              "  <thead>\n",
              "    <tr style=\"text-align: right;\">\n",
              "      <th></th>\n",
              "      <th>predictors</th>\n",
              "      <th>MSE_mean</th>\n",
              "      <th>MSE_folds</th>\n",
              "      <th>Model</th>\n",
              "    </tr>\n",
              "  </thead>\n",
              "  <tbody>\n",
              "    <tr>\n",
              "      <th>0</th>\n",
              "      <td>1</td>\n",
              "      <td>138.786992</td>\n",
              "      <td>[93.34089851119352, 136.62664761202365, 166.32...</td>\n",
              "      <td>eraapl ~ ersandp</td>\n",
              "    </tr>\n",
              "    <tr>\n",
              "      <th>1</th>\n",
              "      <td>2</td>\n",
              "      <td>138.414434</td>\n",
              "      <td>[93.26174179909769, 136.1113925110296, 166.889...</td>\n",
              "      <td>eraapl ~ dmoney + ersandp</td>\n",
              "    </tr>\n",
              "    <tr>\n",
              "      <th>2</th>\n",
              "      <td>3</td>\n",
              "      <td>138.361890</td>\n",
              "      <td>[100.57355660618944, 133.84036639075498, 165.5...</td>\n",
              "      <td>eraapl ~ dmoney + mustb3m + ersandp</td>\n",
              "    </tr>\n",
              "    <tr>\n",
              "      <th>3</th>\n",
              "      <td>4</td>\n",
              "      <td>138.444514</td>\n",
              "      <td>[96.66872449335831, 133.0443013826184, 165.171...</td>\n",
              "      <td>eraapl ~ dmoney + dinflation + mustb3m + ersandp</td>\n",
              "    </tr>\n",
              "    <tr>\n",
              "      <th>4</th>\n",
              "      <td>5</td>\n",
              "      <td>138.309037</td>\n",
              "      <td>[95.72647725152626, 132.11623375002893, 164.77...</td>\n",
              "      <td>eraapl ~ dcredit + dmoney + dinflation + mustb...</td>\n",
              "    </tr>\n",
              "    <tr>\n",
              "      <th>5</th>\n",
              "      <td>6</td>\n",
              "      <td>138.574721</td>\n",
              "      <td>[95.49744738534642, 135.48184403718113, 164.49...</td>\n",
              "      <td>eraapl ~ dcredit + dprod + dmoney + dinflation...</td>\n",
              "    </tr>\n",
              "    <tr>\n",
              "      <th>6</th>\n",
              "      <td>7</td>\n",
              "      <td>138.869012</td>\n",
              "      <td>[95.2918366737041, 134.86022564160115, 163.733...</td>\n",
              "      <td>eraapl ~ dspread + dcredit + dprod + dmoney + ...</td>\n",
              "    </tr>\n",
              "    <tr>\n",
              "      <th>7</th>\n",
              "      <td>8</td>\n",
              "      <td>139.752867</td>\n",
              "      <td>[97.57903051590786, 135.32157956864924, 165.57...</td>\n",
              "      <td>eraapl ~ dspread + dcredit + dprod + dmoney + ...</td>\n",
              "    </tr>\n",
              "  </tbody>\n",
              "</table>\n",
              "</div>\n",
              "      <button class=\"colab-df-convert\" onclick=\"convertToInteractive('df-fa034d32-0383-47a6-98fc-6a13072f7add')\"\n",
              "              title=\"Convert this dataframe to an interactive table.\"\n",
              "              style=\"display:none;\">\n",
              "        \n",
              "  <svg xmlns=\"http://www.w3.org/2000/svg\" height=\"24px\"viewBox=\"0 0 24 24\"\n",
              "       width=\"24px\">\n",
              "    <path d=\"M0 0h24v24H0V0z\" fill=\"none\"/>\n",
              "    <path d=\"M18.56 5.44l.94 2.06.94-2.06 2.06-.94-2.06-.94-.94-2.06-.94 2.06-2.06.94zm-11 1L8.5 8.5l.94-2.06 2.06-.94-2.06-.94L8.5 2.5l-.94 2.06-2.06.94zm10 10l.94 2.06.94-2.06 2.06-.94-2.06-.94-.94-2.06-.94 2.06-2.06.94z\"/><path d=\"M17.41 7.96l-1.37-1.37c-.4-.4-.92-.59-1.43-.59-.52 0-1.04.2-1.43.59L10.3 9.45l-7.72 7.72c-.78.78-.78 2.05 0 2.83L4 21.41c.39.39.9.59 1.41.59.51 0 1.02-.2 1.41-.59l7.78-7.78 2.81-2.81c.8-.78.8-2.07 0-2.86zM5.41 20L4 18.59l7.72-7.72 1.47 1.35L5.41 20z\"/>\n",
              "  </svg>\n",
              "      </button>\n",
              "      \n",
              "  <style>\n",
              "    .colab-df-container {\n",
              "      display:flex;\n",
              "      flex-wrap:wrap;\n",
              "      gap: 12px;\n",
              "    }\n",
              "\n",
              "    .colab-df-convert {\n",
              "      background-color: #E8F0FE;\n",
              "      border: none;\n",
              "      border-radius: 50%;\n",
              "      cursor: pointer;\n",
              "      display: none;\n",
              "      fill: #1967D2;\n",
              "      height: 32px;\n",
              "      padding: 0 0 0 0;\n",
              "      width: 32px;\n",
              "    }\n",
              "\n",
              "    .colab-df-convert:hover {\n",
              "      background-color: #E2EBFA;\n",
              "      box-shadow: 0px 1px 2px rgba(60, 64, 67, 0.3), 0px 1px 3px 1px rgba(60, 64, 67, 0.15);\n",
              "      fill: #174EA6;\n",
              "    }\n",
              "\n",
              "    [theme=dark] .colab-df-convert {\n",
              "      background-color: #3B4455;\n",
              "      fill: #D2E3FC;\n",
              "    }\n",
              "\n",
              "    [theme=dark] .colab-df-convert:hover {\n",
              "      background-color: #434B5C;\n",
              "      box-shadow: 0px 1px 3px 1px rgba(0, 0, 0, 0.15);\n",
              "      filter: drop-shadow(0px 1px 2px rgba(0, 0, 0, 0.3));\n",
              "      fill: #FFFFFF;\n",
              "    }\n",
              "  </style>\n",
              "\n",
              "      <script>\n",
              "        const buttonEl =\n",
              "          document.querySelector('#df-fa034d32-0383-47a6-98fc-6a13072f7add button.colab-df-convert');\n",
              "        buttonEl.style.display =\n",
              "          google.colab.kernel.accessAllowed ? 'block' : 'none';\n",
              "\n",
              "        async function convertToInteractive(key) {\n",
              "          const element = document.querySelector('#df-fa034d32-0383-47a6-98fc-6a13072f7add');\n",
              "          const dataTable =\n",
              "            await google.colab.kernel.invokeFunction('convertToInteractive',\n",
              "                                                     [key], {});\n",
              "          if (!dataTable) return;\n",
              "\n",
              "          const docLinkHtml = 'Like what you see? Visit the ' +\n",
              "            '<a target=\"_blank\" href=https://colab.research.google.com/notebooks/data_table.ipynb>data table notebook</a>'\n",
              "            + ' to learn more about interactive tables.';\n",
              "          element.innerHTML = '';\n",
              "          dataTable['output_type'] = 'display_data';\n",
              "          await google.colab.output.renderOutput(dataTable, element);\n",
              "          const docLink = document.createElement('div');\n",
              "          docLink.innerHTML = docLinkHtml;\n",
              "          element.appendChild(docLink);\n",
              "        }\n",
              "      </script>\n",
              "    </div>\n",
              "  </div>\n",
              "  "
            ]
          },
          "metadata": {}
        }
      ]
    },
    {
      "cell_type": "code",
      "source": [
        "sns.lineplot(x='predictors', y='MSE_mean', data=results_a_df);"
      ],
      "metadata": {
        "colab": {
          "base_uri": "https://localhost:8080/",
          "height": 280
        },
        "id": "XlvWs2R50D7Q",
        "outputId": "5d94648b-d45c-458b-81be-53c8e93c4a0f"
      },
      "execution_count": null,
      "outputs": [
        {
          "output_type": "display_data",
          "data": {
            "text/plain": [
              "<Figure size 432x288 with 1 Axes>"
            ],
            "image/png": "[encoded data removed]"
          },
          "metadata": {
            "needs_background": "light"
          }
        }
      ]
    },
    {
      "cell_type": "code",
      "source": [
        "best_subset_choice = results_a_df[results_a_df['MSE_mean'] == results_a_df['MSE_mean'].min()]\n",
        "display(best_subset_choice)\n",
        "\n",
        "best_subset_choice['Model'].iloc[0]"
      ],
      "metadata": {
        "colab": {
          "base_uri": "https://localhost:8080/",
          "height": 99
        },
        "id": "DusohH6O0GtW",
        "outputId": "3af6b7a2-0ce9-408a-a951-e97c667dbd09"
      },
      "execution_count": null,
      "outputs": [
        {
          "output_type": "display_data",
          "data": {
            "text/plain": [
              "   predictors    MSE_mean                                          MSE_folds  \\\n",
              "4           5  138.309037  [95.72647725152626, 132.11623375002893, 164.77...   \n",
              "\n",
              "                                               Model  \n",
              "4  eraapl ~ dcredit + dmoney + dinflation + mustb...  "
            ],
            "text/html": [
              "\n",
              "  <div id=\"df-931da475-9c80-4f08-9d1f-01fb3d426a1a\">\n",
              "    <div class=\"colab-df-container\">\n",
              "      <div>\n",
              "<style scoped>\n",
              "    .dataframe tbody tr th:only-of-type {\n",
              "        vertical-align: middle;\n",
              "    }\n",
              "\n",
              "    .dataframe tbody tr th {\n",
              "        vertical-align: top;\n",
              "    }\n",
              "\n",
              "    .dataframe thead th {\n",
              "        text-align: right;\n",
              "    }\n",
              "</style>\n",
              "<table border=\"1\" class=\"dataframe\">\n",
              "  <thead>\n",
              "    <tr style=\"text-align: right;\">\n",
              "      <th></th>\n",
              "      <th>predictors</th>\n",
              "      <th>MSE_mean</th>\n",
              "      <th>MSE_folds</th>\n",
              "      <th>Model</th>\n",
              "    </tr>\n",
              "  </thead>\n",
              "  <tbody>\n",
              "    <tr>\n",
              "      <th>4</th>\n",
              "      <td>5</td>\n",
              "      <td>138.309037</td>\n",
              "      <td>[95.72647725152626, 132.11623375002893, 164.77...</td>\n",
              "      <td>eraapl ~ dcredit + dmoney + dinflation + mustb...</td>\n",
              "    </tr>\n",
              "  </tbody>\n",
              "</table>\n",
              "</div>\n",
              "      <button class=\"colab-df-convert\" onclick=\"convertToInteractive('df-931da475-9c80-4f08-9d1f-01fb3d426a1a')\"\n",
              "              title=\"Convert this dataframe to an interactive table.\"\n",
              "              style=\"display:none;\">\n",
              "        \n",
              "  <svg xmlns=\"http://www.w3.org/2000/svg\" height=\"24px\"viewBox=\"0 0 24 24\"\n",
              "       width=\"24px\">\n",
              "    <path d=\"M0 0h24v24H0V0z\" fill=\"none\"/>\n",
              "    <path d=\"M18.56 5.44l.94 2.06.94-2.06 2.06-.94-2.06-.94-.94-2.06-.94 2.06-2.06.94zm-11 1L8.5 8.5l.94-2.06 2.06-.94-2.06-.94L8.5 2.5l-.94 2.06-2.06.94zm10 10l.94 2.06.94-2.06 2.06-.94-2.06-.94-.94-2.06-.94 2.06-2.06.94z\"/><path d=\"M17.41 7.96l-1.37-1.37c-.4-.4-.92-.59-1.43-.59-.52 0-1.04.2-1.43.59L10.3 9.45l-7.72 7.72c-.78.78-.78 2.05 0 2.83L4 21.41c.39.39.9.59 1.41.59.51 0 1.02-.2 1.41-.59l7.78-7.78 2.81-2.81c.8-.78.8-2.07 0-2.86zM5.41 20L4 18.59l7.72-7.72 1.47 1.35L5.41 20z\"/>\n",
              "  </svg>\n",
              "      </button>\n",
              "      \n",
              "  <style>\n",
              "    .colab-df-container {\n",
              "      display:flex;\n",
              "      flex-wrap:wrap;\n",
              "      gap: 12px;\n",
              "    }\n",
              "\n",
              "    .colab-df-convert {\n",
              "      background-color: #E8F0FE;\n",
              "      border: none;\n",
              "      border-radius: 50%;\n",
              "      cursor: pointer;\n",
              "      display: none;\n",
              "      fill: #1967D2;\n",
              "      height: 32px;\n",
              "      padding: 0 0 0 0;\n",
              "      width: 32px;\n",
              "    }\n",
              "\n",
              "    .colab-df-convert:hover {\n",
              "      background-color: #E2EBFA;\n",
              "      box-shadow: 0px 1px 2px rgba(60, 64, 67, 0.3), 0px 1px 3px 1px rgba(60, 64, 67, 0.15);\n",
              "      fill: #174EA6;\n",
              "    }\n",
              "\n",
              "    [theme=dark] .colab-df-convert {\n",
              "      background-color: #3B4455;\n",
              "      fill: #D2E3FC;\n",
              "    }\n",
              "\n",
              "    [theme=dark] .colab-df-convert:hover {\n",
              "      background-color: #434B5C;\n",
              "      box-shadow: 0px 1px 3px 1px rgba(0, 0, 0, 0.15);\n",
              "      filter: drop-shadow(0px 1px 2px rgba(0, 0, 0, 0.3));\n",
              "      fill: #FFFFFF;\n",
              "    }\n",
              "  </style>\n",
              "\n",
              "      <script>\n",
              "        const buttonEl =\n",
              "          document.querySelector('#df-931da475-9c80-4f08-9d1f-01fb3d426a1a button.colab-df-convert');\n",
              "        buttonEl.style.display =\n",
              "          google.colab.kernel.accessAllowed ? 'block' : 'none';\n",
              "\n",
              "        async function convertToInteractive(key) {\n",
              "          const element = document.querySelector('#df-931da475-9c80-4f08-9d1f-01fb3d426a1a');\n",
              "          const dataTable =\n",
              "            await google.colab.kernel.invokeFunction('convertToInteractive',\n",
              "                                                     [key], {});\n",
              "          if (!dataTable) return;\n",
              "\n",
              "          const docLinkHtml = 'Like what you see? Visit the ' +\n",
              "            '<a target=\"_blank\" href=https://colab.research.google.com/notebooks/data_table.ipynb>data table notebook</a>'\n",
              "            + ' to learn more about interactive tables.';\n",
              "          element.innerHTML = '';\n",
              "          dataTable['output_type'] = 'display_data';\n",
              "          await google.colab.output.renderOutput(dataTable, element);\n",
              "          const docLink = document.createElement('div');\n",
              "          docLink.innerHTML = docLinkHtml;\n",
              "          element.appendChild(docLink);\n",
              "        }\n",
              "      </script>\n",
              "    </div>\n",
              "  </div>\n",
              "  "
            ]
          },
          "metadata": {}
        },
        {
          "output_type": "execute_result",
          "data": {
            "text/plain": [
              "'eraapl ~ dcredit + dmoney + dinflation + mustb3m + ersandp'"
            ],
            "application/vnd.google.colaboratory.intrinsic+json": {
              "type": "string"
            }
          },
          "metadata": {},
          "execution_count": 27
        }
      ]
    },
    {
      "cell_type": "markdown",
      "source": [
        "De este resultado observamos que con 5 predictores obtenemos el minimo de los errores cuadraticos medioscon un MSE 138.309037"
      ],
      "metadata": {
        "id": "QwGyJqiKzgbE"
      }
    },
    {
      "cell_type": "code",
      "source": [
        "#Volvemos a correr un Backwards Stepwise con todos los features\n",
        "backward_stepwise_subsets = backward_stepwise(X, y)\n",
        "backward_stepwise_subsets['predictor_count'] = np.arange(1, 9)\n",
        "display(backward_stepwise_subsets)\n",
        "\n",
        "sns.lineplot(x='predictor_count', y='rss', data=backward_stepwise_subsets);"
      ],
      "metadata": {
        "colab": {
          "base_uri": "https://localhost:8080/",
          "height": 563
        },
        "id": "nX1C89lk0vaL",
        "outputId": "bb08378b-51b0-43a9-8baf-98777bf8daf5"
      },
      "execution_count": null,
      "outputs": [
        {
          "output_type": "display_data",
          "data": {
            "text/plain": [
              "            rss                                         predictors  \\\n",
              "0  51532.354119  [dspread, dcredit, dprod, dmoney, dinflation, ...   \n",
              "1  51537.664899  [dspread, dcredit, dprod, dmoney, dinflation, ...   \n",
              "2  51596.843103  [dcredit, dprod, dmoney, dinflation, mustb3m, ...   \n",
              "3  51678.409294    [dcredit, dmoney, dinflation, mustb3m, ersandp]   \n",
              "4  51822.172724             [dmoney, dinflation, mustb3m, ersandp]   \n",
              "5  51983.643564                         [dmoney, mustb3m, ersandp]   \n",
              "6  52262.458904                                  [dmoney, ersandp]   \n",
              "7  52464.338574                                          [ersandp]   \n",
              "\n",
              "   predictor_count  \n",
              "0                1  \n",
              "1                2  \n",
              "2                3  \n",
              "3                4  \n",
              "4                5  \n",
              "5                6  \n",
              "6                7  \n",
              "7                8  "
            ],
            "text/html": [
              "\n",
              "  <div id=\"df-81c7cb9f-0c19-4d8b-a463-4e6eea527c8a\">\n",
              "    <div class=\"colab-df-container\">\n",
              "      <div>\n",
              "<style scoped>\n",
              "    .dataframe tbody tr th:only-of-type {\n",
              "        vertical-align: middle;\n",
              "    }\n",
              "\n",
              "    .dataframe tbody tr th {\n",
              "        vertical-align: top;\n",
              "    }\n",
              "\n",
              "    .dataframe thead th {\n",
              "        text-align: right;\n",
              "    }\n",
              "</style>\n",
              "<table border=\"1\" class=\"dataframe\">\n",
              "  <thead>\n",
              "    <tr style=\"text-align: right;\">\n",
              "      <th></th>\n",
              "      <th>rss</th>\n",
              "      <th>predictors</th>\n",
              "      <th>predictor_count</th>\n",
              "    </tr>\n",
              "  </thead>\n",
              "  <tbody>\n",
              "    <tr>\n",
              "      <th>0</th>\n",
              "      <td>51532.354119</td>\n",
              "      <td>[dspread, dcredit, dprod, dmoney, dinflation, ...</td>\n",
              "      <td>1</td>\n",
              "    </tr>\n",
              "    <tr>\n",
              "      <th>1</th>\n",
              "      <td>51537.664899</td>\n",
              "      <td>[dspread, dcredit, dprod, dmoney, dinflation, ...</td>\n",
              "      <td>2</td>\n",
              "    </tr>\n",
              "    <tr>\n",
              "      <th>2</th>\n",
              "      <td>51596.843103</td>\n",
              "      <td>[dcredit, dprod, dmoney, dinflation, mustb3m, ...</td>\n",
              "      <td>3</td>\n",
              "    </tr>\n",
              "    <tr>\n",
              "      <th>3</th>\n",
              "      <td>51678.409294</td>\n",
              "      <td>[dcredit, dmoney, dinflation, mustb3m, ersandp]</td>\n",
              "      <td>4</td>\n",
              "    </tr>\n",
              "    <tr>\n",
              "      <th>4</th>\n",
              "      <td>51822.172724</td>\n",
              "      <td>[dmoney, dinflation, mustb3m, ersandp]</td>\n",
              "      <td>5</td>\n",
              "    </tr>\n",
              "    <tr>\n",
              "      <th>5</th>\n",
              "      <td>51983.643564</td>\n",
              "      <td>[dmoney, mustb3m, ersandp]</td>\n",
              "      <td>6</td>\n",
              "    </tr>\n",
              "    <tr>\n",
              "      <th>6</th>\n",
              "      <td>52262.458904</td>\n",
              "      <td>[dmoney, ersandp]</td>\n",
              "      <td>7</td>\n",
              "    </tr>\n",
              "    <tr>\n",
              "      <th>7</th>\n",
              "      <td>52464.338574</td>\n",
              "      <td>[ersandp]</td>\n",
              "      <td>8</td>\n",
              "    </tr>\n",
              "  </tbody>\n",
              "</table>\n",
              "</div>\n",
              "      <button class=\"colab-df-convert\" onclick=\"convertToInteractive('df-81c7cb9f-0c19-4d8b-a463-4e6eea527c8a')\"\n",
              "              title=\"Convert this dataframe to an interactive table.\"\n",
              "              style=\"display:none;\">\n",
              "        \n",
              "  <svg xmlns=\"http://www.w3.org/2000/svg\" height=\"24px\"viewBox=\"0 0 24 24\"\n",
              "       width=\"24px\">\n",
              "    <path d=\"M0 0h24v24H0V0z\" fill=\"none\"/>\n",
              "    <path d=\"M18.56 5.44l.94 2.06.94-2.06 2.06-.94-2.06-.94-.94-2.06-.94 2.06-2.06.94zm-11 1L8.5 8.5l.94-2.06 2.06-.94-2.06-.94L8.5 2.5l-.94 2.06-2.06.94zm10 10l.94 2.06.94-2.06 2.06-.94-2.06-.94-.94-2.06-.94 2.06-2.06.94z\"/><path d=\"M17.41 7.96l-1.37-1.37c-.4-.4-.92-.59-1.43-.59-.52 0-1.04.2-1.43.59L10.3 9.45l-7.72 7.72c-.78.78-.78 2.05 0 2.83L4 21.41c.39.39.9.59 1.41.59.51 0 1.02-.2 1.41-.59l7.78-7.78 2.81-2.81c.8-.78.8-2.07 0-2.86zM5.41 20L4 18.59l7.72-7.72 1.47 1.35L5.41 20z\"/>\n",
              "  </svg>\n",
              "      </button>\n",
              "      \n",
              "  <style>\n",
              "    .colab-df-container {\n",
              "      display:flex;\n",
              "      flex-wrap:wrap;\n",
              "      gap: 12px;\n",
              "    }\n",
              "\n",
              "    .colab-df-convert {\n",
              "      background-color: #E8F0FE;\n",
              "      border: none;\n",
              "      border-radius: 50%;\n",
              "      cursor: pointer;\n",
              "      display: none;\n",
              "      fill: #1967D2;\n",
              "      height: 32px;\n",
              "      padding: 0 0 0 0;\n",
              "      width: 32px;\n",
              "    }\n",
              "\n",
              "    .colab-df-convert:hover {\n",
              "      background-color: #E2EBFA;\n",
              "      box-shadow: 0px 1px 2px rgba(60, 64, 67, 0.3), 0px 1px 3px 1px rgba(60, 64, 67, 0.15);\n",
              "      fill: #174EA6;\n",
              "    }\n",
              "\n",
              "    [theme=dark] .colab-df-convert {\n",
              "      background-color: #3B4455;\n",
              "      fill: #D2E3FC;\n",
              "    }\n",
              "\n",
              "    [theme=dark] .colab-df-convert:hover {\n",
              "      background-color: #434B5C;\n",
              "      box-shadow: 0px 1px 3px 1px rgba(0, 0, 0, 0.15);\n",
              "      filter: drop-shadow(0px 1px 2px rgba(0, 0, 0, 0.3));\n",
              "      fill: #FFFFFF;\n",
              "    }\n",
              "  </style>\n",
              "\n",
              "      <script>\n",
              "        const buttonEl =\n",
              "          document.querySelector('#df-81c7cb9f-0c19-4d8b-a463-4e6eea527c8a button.colab-df-convert');\n",
              "        buttonEl.style.display =\n",
              "          google.colab.kernel.accessAllowed ? 'block' : 'none';\n",
              "\n",
              "        async function convertToInteractive(key) {\n",
              "          const element = document.querySelector('#df-81c7cb9f-0c19-4d8b-a463-4e6eea527c8a');\n",
              "          const dataTable =\n",
              "            await google.colab.kernel.invokeFunction('convertToInteractive',\n",
              "                                                     [key], {});\n",
              "          if (!dataTable) return;\n",
              "\n",
              "          const docLinkHtml = 'Like what you see? Visit the ' +\n",
              "            '<a target=\"_blank\" href=https://colab.research.google.com/notebooks/data_table.ipynb>data table notebook</a>'\n",
              "            + ' to learn more about interactive tables.';\n",
              "          element.innerHTML = '';\n",
              "          dataTable['output_type'] = 'display_data';\n",
              "          await google.colab.output.renderOutput(dataTable, element);\n",
              "          const docLink = document.createElement('div');\n",
              "          docLink.innerHTML = docLinkHtml;\n",
              "          element.appendChild(docLink);\n",
              "        }\n",
              "      </script>\n",
              "    </div>\n",
              "  </div>\n",
              "  "
            ]
          },
          "metadata": {}
        },
        {
          "output_type": "display_data",
          "data": {
            "text/plain": [
              "<Figure size 432x288 with 1 Axes>"
            ],
            "image/png": "[encoded data removed]"
          },
          "metadata": {
            "needs_background": "light"
          }
        }
      ]
    },
    {
      "cell_type": "markdown",
      "source": [
        "Podemos concluir que un punto de inflexión en el rss se obtiene cuando en el modelo se incluyen 5 variables independientes pero se obtiene el mejor resultado usando 7 u 8 predictores en el modelo"
      ],
      "metadata": {
        "id": "CVBFjxsG2BDN"
      }
    },
    {
      "cell_type": "code",
      "source": [
        "# Perform cross validation for each subset of predictors\n",
        "results = []\n",
        "for preds in backward_stepwise_subsets['predictors']:\n",
        "    f = 'eraapl ~ {}'.format(' + '.join(preds))\n",
        "    results += [cross_val(f, X, y, 10)]\n",
        "\n",
        "results_b_df = pd.DataFrame({'predictors': list(np.arange(1, len(results)+1)),\n",
        "                           'MSE_mean': [np.mean(i[0]) for i in results],\n",
        "                           'MSE_folds': [i[0] for i in results],\n",
        "                           'Model': [i[1] for i in results]})\n",
        "display(results_b_df)\n"
      ],
      "metadata": {
        "colab": {
          "base_uri": "https://localhost:8080/",
          "height": 300
        },
        "id": "NBm3-0Jy1Igx",
        "outputId": "c5a1eb94-47b3-4027-ae3b-3535ba60e5f4"
      },
      "execution_count": null,
      "outputs": [
        {
          "output_type": "display_data",
          "data": {
            "text/plain": [
              "   predictors    MSE_mean                                          MSE_folds  \\\n",
              "0           1  139.752867  [97.57903051590786, 135.32157956864924, 165.57...   \n",
              "1           2  138.869012  [95.2918366737041, 134.86022564160115, 163.733...   \n",
              "2           3  138.574721  [95.49744738534642, 135.48184403718113, 164.49...   \n",
              "3           4  138.309037  [95.72647725152626, 132.11623375002893, 164.77...   \n",
              "4           5  138.444514  [96.66872449335831, 133.0443013826184, 165.171...   \n",
              "5           6  138.361890  [100.57355660618944, 133.84036639075498, 165.5...   \n",
              "6           7  138.414434  [93.26174179909769, 136.1113925110296, 166.889...   \n",
              "7           8  138.786992  [93.34089851119352, 136.62664761202365, 166.32...   \n",
              "\n",
              "                                               Model  \n",
              "0  eraapl ~ dspread + dcredit + dprod + dmoney + ...  \n",
              "1  eraapl ~ dspread + dcredit + dprod + dmoney + ...  \n",
              "2  eraapl ~ dcredit + dprod + dmoney + dinflation...  \n",
              "3  eraapl ~ dcredit + dmoney + dinflation + mustb...  \n",
              "4   eraapl ~ dmoney + dinflation + mustb3m + ersandp  \n",
              "5                eraapl ~ dmoney + mustb3m + ersandp  \n",
              "6                          eraapl ~ dmoney + ersandp  \n",
              "7                                   eraapl ~ ersandp  "
            ],
            "text/html": [
              "\n",
              "  <div id=\"df-ca748e16-7ac5-4a59-ab97-c9c5b7cfeb74\">\n",
              "    <div class=\"colab-df-container\">\n",
              "      <div>\n",
              "<style scoped>\n",
              "    .dataframe tbody tr th:only-of-type {\n",
              "        vertical-align: middle;\n",
              "    }\n",
              "\n",
              "    .dataframe tbody tr th {\n",
              "        vertical-align: top;\n",
              "    }\n",
              "\n",
              "    .dataframe thead th {\n",
              "        text-align: right;\n",
              "    }\n",
              "</style>\n",
              "<table border=\"1\" class=\"dataframe\">\n",
              "  <thead>\n",
              "    <tr style=\"text-align: right;\">\n",
              "      <th></th>\n",
              "      <th>predictors</th>\n",
              "      <th>MSE_mean</th>\n",
              "      <th>MSE_folds</th>\n",
              "      <th>Model</th>\n",
              "    </tr>\n",
              "  </thead>\n",
              "  <tbody>\n",
              "    <tr>\n",
              "      <th>0</th>\n",
              "      <td>1</td>\n",
              "      <td>139.752867</td>\n",
              "      <td>[97.57903051590786, 135.32157956864924, 165.57...</td>\n",
              "      <td>eraapl ~ dspread + dcredit + dprod + dmoney + ...</td>\n",
              "    </tr>\n",
              "    <tr>\n",
              "      <th>1</th>\n",
              "      <td>2</td>\n",
              "      <td>138.869012</td>\n",
              "      <td>[95.2918366737041, 134.86022564160115, 163.733...</td>\n",
              "      <td>eraapl ~ dspread + dcredit + dprod + dmoney + ...</td>\n",
              "    </tr>\n",
              "    <tr>\n",
              "      <th>2</th>\n",
              "      <td>3</td>\n",
              "      <td>138.574721</td>\n",
              "      <td>[95.49744738534642, 135.48184403718113, 164.49...</td>\n",
              "      <td>eraapl ~ dcredit + dprod + dmoney + dinflation...</td>\n",
              "    </tr>\n",
              "    <tr>\n",
              "      <th>3</th>\n",
              "      <td>4</td>\n",
              "      <td>138.309037</td>\n",
              "      <td>[95.72647725152626, 132.11623375002893, 164.77...</td>\n",
              "      <td>eraapl ~ dcredit + dmoney + dinflation + mustb...</td>\n",
              "    </tr>\n",
              "    <tr>\n",
              "      <th>4</th>\n",
              "      <td>5</td>\n",
              "      <td>138.444514</td>\n",
              "      <td>[96.66872449335831, 133.0443013826184, 165.171...</td>\n",
              "      <td>eraapl ~ dmoney + dinflation + mustb3m + ersandp</td>\n",
              "    </tr>\n",
              "    <tr>\n",
              "      <th>5</th>\n",
              "      <td>6</td>\n",
              "      <td>138.361890</td>\n",
              "      <td>[100.57355660618944, 133.84036639075498, 165.5...</td>\n",
              "      <td>eraapl ~ dmoney + mustb3m + ersandp</td>\n",
              "    </tr>\n",
              "    <tr>\n",
              "      <th>6</th>\n",
              "      <td>7</td>\n",
              "      <td>138.414434</td>\n",
              "      <td>[93.26174179909769, 136.1113925110296, 166.889...</td>\n",
              "      <td>eraapl ~ dmoney + ersandp</td>\n",
              "    </tr>\n",
              "    <tr>\n",
              "      <th>7</th>\n",
              "      <td>8</td>\n",
              "      <td>138.786992</td>\n",
              "      <td>[93.34089851119352, 136.62664761202365, 166.32...</td>\n",
              "      <td>eraapl ~ ersandp</td>\n",
              "    </tr>\n",
              "  </tbody>\n",
              "</table>\n",
              "</div>\n",
              "      <button class=\"colab-df-convert\" onclick=\"convertToInteractive('df-ca748e16-7ac5-4a59-ab97-c9c5b7cfeb74')\"\n",
              "              title=\"Convert this dataframe to an interactive table.\"\n",
              "              style=\"display:none;\">\n",
              "        \n",
              "  <svg xmlns=\"http://www.w3.org/2000/svg\" height=\"24px\"viewBox=\"0 0 24 24\"\n",
              "       width=\"24px\">\n",
              "    <path d=\"M0 0h24v24H0V0z\" fill=\"none\"/>\n",
              "    <path d=\"M18.56 5.44l.94 2.06.94-2.06 2.06-.94-2.06-.94-.94-2.06-.94 2.06-2.06.94zm-11 1L8.5 8.5l.94-2.06 2.06-.94-2.06-.94L8.5 2.5l-.94 2.06-2.06.94zm10 10l.94 2.06.94-2.06 2.06-.94-2.06-.94-.94-2.06-.94 2.06-2.06.94z\"/><path d=\"M17.41 7.96l-1.37-1.37c-.4-.4-.92-.59-1.43-.59-.52 0-1.04.2-1.43.59L10.3 9.45l-7.72 7.72c-.78.78-.78 2.05 0 2.83L4 21.41c.39.39.9.59 1.41.59.51 0 1.02-.2 1.41-.59l7.78-7.78 2.81-2.81c.8-.78.8-2.07 0-2.86zM5.41 20L4 18.59l7.72-7.72 1.47 1.35L5.41 20z\"/>\n",
              "  </svg>\n",
              "      </button>\n",
              "      \n",
              "  <style>\n",
              "    .colab-df-container {\n",
              "      display:flex;\n",
              "      flex-wrap:wrap;\n",
              "      gap: 12px;\n",
              "    }\n",
              "\n",
              "    .colab-df-convert {\n",
              "      background-color: #E8F0FE;\n",
              "      border: none;\n",
              "      border-radius: 50%;\n",
              "      cursor: pointer;\n",
              "      display: none;\n",
              "      fill: #1967D2;\n",
              "      height: 32px;\n",
              "      padding: 0 0 0 0;\n",
              "      width: 32px;\n",
              "    }\n",
              "\n",
              "    .colab-df-convert:hover {\n",
              "      background-color: #E2EBFA;\n",
              "      box-shadow: 0px 1px 2px rgba(60, 64, 67, 0.3), 0px 1px 3px 1px rgba(60, 64, 67, 0.15);\n",
              "      fill: #174EA6;\n",
              "    }\n",
              "\n",
              "    [theme=dark] .colab-df-convert {\n",
              "      background-color: #3B4455;\n",
              "      fill: #D2E3FC;\n",
              "    }\n",
              "\n",
              "    [theme=dark] .colab-df-convert:hover {\n",
              "      background-color: #434B5C;\n",
              "      box-shadow: 0px 1px 3px 1px rgba(0, 0, 0, 0.15);\n",
              "      filter: drop-shadow(0px 1px 2px rgba(0, 0, 0, 0.3));\n",
              "      fill: #FFFFFF;\n",
              "    }\n",
              "  </style>\n",
              "\n",
              "      <script>\n",
              "        const buttonEl =\n",
              "          document.querySelector('#df-ca748e16-7ac5-4a59-ab97-c9c5b7cfeb74 button.colab-df-convert');\n",
              "        buttonEl.style.display =\n",
              "          google.colab.kernel.accessAllowed ? 'block' : 'none';\n",
              "\n",
              "        async function convertToInteractive(key) {\n",
              "          const element = document.querySelector('#df-ca748e16-7ac5-4a59-ab97-c9c5b7cfeb74');\n",
              "          const dataTable =\n",
              "            await google.colab.kernel.invokeFunction('convertToInteractive',\n",
              "                                                     [key], {});\n",
              "          if (!dataTable) return;\n",
              "\n",
              "          const docLinkHtml = 'Like what you see? Visit the ' +\n",
              "            '<a target=\"_blank\" href=https://colab.research.google.com/notebooks/data_table.ipynb>data table notebook</a>'\n",
              "            + ' to learn more about interactive tables.';\n",
              "          element.innerHTML = '';\n",
              "          dataTable['output_type'] = 'display_data';\n",
              "          await google.colab.output.renderOutput(dataTable, element);\n",
              "          const docLink = document.createElement('div');\n",
              "          docLink.innerHTML = docLinkHtml;\n",
              "          element.appendChild(docLink);\n",
              "        }\n",
              "      </script>\n",
              "    </div>\n",
              "  </div>\n",
              "  "
            ]
          },
          "metadata": {}
        }
      ]
    },
    {
      "cell_type": "code",
      "source": [
        "sns.lineplot(x='predictors', y='MSE_mean', data=results_b_df);"
      ],
      "metadata": {
        "colab": {
          "base_uri": "https://localhost:8080/",
          "height": 280
        },
        "id": "TGsUBMa51TAL",
        "outputId": "69911f60-41a7-4379-f3a4-04ef9c54eb43"
      },
      "execution_count": null,
      "outputs": [
        {
          "output_type": "display_data",
          "data": {
            "text/plain": [
              "<Figure size 432x288 with 1 Axes>"
            ],
            "image/png": "[encoded data removed]"
          },
          "metadata": {
            "needs_background": "light"
          }
        }
      ]
    },
    {
      "cell_type": "markdown",
      "source": [
        "Podemos observar que para una cantidad de 5 predictores es donde encontramos el valor minimo de el error cuadratico medio de 138.309037, usando los mismos 5 precitores que encontramos en las metodologias anteriores eraapl ~ dcredit + dmoney + dinflation + mustb3m + ersandp"
      ],
      "metadata": {
        "id": "jMy4ur3K8PiA"
      }
    },
    {
      "cell_type": "code",
      "source": [
        "display(HTML('</br><h4>Best Subset Selection from 10 predictors, with 10-fold Cross Validation</h4>'))\n",
        "best_subset_choice = results_a_df[results_a_df['MSE_mean'] == results_a_df['MSE_mean'].min()]\n",
        "display(best_subset_choice)\n",
        "print(best_subset_choice['Model'].iloc[0])\n",
        "\n",
        "display(HTML('</br><h4>Backward Stepwise Selection from all 10 predictors, with 10-fold Cross Validation</h4>'))\n",
        "backward_select_choice = results_b_df[results_b_df['MSE_mean'] == results_b_df['MSE_mean'].min()]\n",
        "display(backward_select_choice)\n",
        "print(backward_select_choice['Model'].iloc[0])"
      ],
      "metadata": {
        "colab": {
          "base_uri": "https://localhost:8080/",
          "height": 293
        },
        "id": "XeIiQvzl1t1t",
        "outputId": "5b458256-a409-437e-d478-e55fbe468702"
      },
      "execution_count": null,
      "outputs": [
        {
          "output_type": "display_data",
          "data": {
            "text/plain": [
              "<IPython.core.display.HTML object>"
            ],
            "text/html": [
              "</br><h4>Best Subset Selection from 10 predictors, with 10-fold Cross Validation</h4>"
            ]
          },
          "metadata": {}
        },
        {
          "output_type": "display_data",
          "data": {
            "text/plain": [
              "   predictors    MSE_mean                                          MSE_folds  \\\n",
              "4           5  138.309037  [95.72647725152626, 132.11623375002893, 164.77...   \n",
              "\n",
              "                                               Model  \n",
              "4  eraapl ~ dcredit + dmoney + dinflation + mustb...  "
            ],
            "text/html": [
              "\n",
              "  <div id=\"df-06fb26ce-5e7b-45b4-92f2-95b144e57d27\">\n",
              "    <div class=\"colab-df-container\">\n",
              "      <div>\n",
              "<style scoped>\n",
              "    .dataframe tbody tr th:only-of-type {\n",
              "        vertical-align: middle;\n",
              "    }\n",
              "\n",
              "    .dataframe tbody tr th {\n",
              "        vertical-align: top;\n",
              "    }\n",
              "\n",
              "    .dataframe thead th {\n",
              "        text-align: right;\n",
              "    }\n",
              "</style>\n",
              "<table border=\"1\" class=\"dataframe\">\n",
              "  <thead>\n",
              "    <tr style=\"text-align: right;\">\n",
              "      <th></th>\n",
              "      <th>predictors</th>\n",
              "      <th>MSE_mean</th>\n",
              "      <th>MSE_folds</th>\n",
              "      <th>Model</th>\n",
              "    </tr>\n",
              "  </thead>\n",
              "  <tbody>\n",
              "    <tr>\n",
              "      <th>4</th>\n",
              "      <td>5</td>\n",
              "      <td>138.309037</td>\n",
              "      <td>[95.72647725152626, 132.11623375002893, 164.77...</td>\n",
              "      <td>eraapl ~ dcredit + dmoney + dinflation + mustb...</td>\n",
              "    </tr>\n",
              "  </tbody>\n",
              "</table>\n",
              "</div>\n",
              "      <button class=\"colab-df-convert\" onclick=\"convertToInteractive('df-06fb26ce-5e7b-45b4-92f2-95b144e57d27')\"\n",
              "              title=\"Convert this dataframe to an interactive table.\"\n",
              "              style=\"display:none;\">\n",
              "        \n",
              "  <svg xmlns=\"http://www.w3.org/2000/svg\" height=\"24px\"viewBox=\"0 0 24 24\"\n",
              "       width=\"24px\">\n",
              "    <path d=\"M0 0h24v24H0V0z\" fill=\"none\"/>\n",
              "    <path d=\"M18.56 5.44l.94 2.06.94-2.06 2.06-.94-2.06-.94-.94-2.06-.94 2.06-2.06.94zm-11 1L8.5 8.5l.94-2.06 2.06-.94-2.06-.94L8.5 2.5l-.94 2.06-2.06.94zm10 10l.94 2.06.94-2.06 2.06-.94-2.06-.94-.94-2.06-.94 2.06-2.06.94z\"/><path d=\"M17.41 7.96l-1.37-1.37c-.4-.4-.92-.59-1.43-.59-.52 0-1.04.2-1.43.59L10.3 9.45l-7.72 7.72c-.78.78-.78 2.05 0 2.83L4 21.41c.39.39.9.59 1.41.59.51 0 1.02-.2 1.41-.59l7.78-7.78 2.81-2.81c.8-.78.8-2.07 0-2.86zM5.41 20L4 18.59l7.72-7.72 1.47 1.35L5.41 20z\"/>\n",
              "  </svg>\n",
              "      </button>\n",
              "      \n",
              "  <style>\n",
              "    .colab-df-container {\n",
              "      display:flex;\n",
              "      flex-wrap:wrap;\n",
              "      gap: 12px;\n",
              "    }\n",
              "\n",
              "    .colab-df-convert {\n",
              "      background-color: #E8F0FE;\n",
              "      border: none;\n",
              "      border-radius: 50%;\n",
              "      cursor: pointer;\n",
              "      display: none;\n",
              "      fill: #1967D2;\n",
              "      height: 32px;\n",
              "      padding: 0 0 0 0;\n",
              "      width: 32px;\n",
              "    }\n",
              "\n",
              "    .colab-df-convert:hover {\n",
              "      background-color: #E2EBFA;\n",
              "      box-shadow: 0px 1px 2px rgba(60, 64, 67, 0.3), 0px 1px 3px 1px rgba(60, 64, 67, 0.15);\n",
              "      fill: #174EA6;\n",
              "    }\n",
              "\n",
              "    [theme=dark] .colab-df-convert {\n",
              "      background-color: #3B4455;\n",
              "      fill: #D2E3FC;\n",
              "    }\n",
              "\n",
              "    [theme=dark] .colab-df-convert:hover {\n",
              "      background-color: #434B5C;\n",
              "      box-shadow: 0px 1px 3px 1px rgba(0, 0, 0, 0.15);\n",
              "      filter: drop-shadow(0px 1px 2px rgba(0, 0, 0, 0.3));\n",
              "      fill: #FFFFFF;\n",
              "    }\n",
              "  </style>\n",
              "\n",
              "      <script>\n",
              "        const buttonEl =\n",
              "          document.querySelector('#df-06fb26ce-5e7b-45b4-92f2-95b144e57d27 button.colab-df-convert');\n",
              "        buttonEl.style.display =\n",
              "          google.colab.kernel.accessAllowed ? 'block' : 'none';\n",
              "\n",
              "        async function convertToInteractive(key) {\n",
              "          const element = document.querySelector('#df-06fb26ce-5e7b-45b4-92f2-95b144e57d27');\n",
              "          const dataTable =\n",
              "            await google.colab.kernel.invokeFunction('convertToInteractive',\n",
              "                                                     [key], {});\n",
              "          if (!dataTable) return;\n",
              "\n",
              "          const docLinkHtml = 'Like what you see? Visit the ' +\n",
              "            '<a target=\"_blank\" href=https://colab.research.google.com/notebooks/data_table.ipynb>data table notebook</a>'\n",
              "            + ' to learn more about interactive tables.';\n",
              "          element.innerHTML = '';\n",
              "          dataTable['output_type'] = 'display_data';\n",
              "          await google.colab.output.renderOutput(dataTable, element);\n",
              "          const docLink = document.createElement('div');\n",
              "          docLink.innerHTML = docLinkHtml;\n",
              "          element.appendChild(docLink);\n",
              "        }\n",
              "      </script>\n",
              "    </div>\n",
              "  </div>\n",
              "  "
            ]
          },
          "metadata": {}
        },
        {
          "output_type": "stream",
          "name": "stdout",
          "text": [
            "eraapl ~ dcredit + dmoney + dinflation + mustb3m + ersandp\n"
          ]
        },
        {
          "output_type": "display_data",
          "data": {
            "text/plain": [
              "<IPython.core.display.HTML object>"
            ],
            "text/html": [
              "</br><h4>Backward Stepwise Selection from all 10 predictors, with 10-fold Cross Validation</h4>"
            ]
          },
          "metadata": {}
        },
        {
          "output_type": "display_data",
          "data": {
            "text/plain": [
              "   predictors    MSE_mean                                          MSE_folds  \\\n",
              "3           4  138.309037  [95.72647725152626, 132.11623375002893, 164.77...   \n",
              "\n",
              "                                               Model  \n",
              "3  eraapl ~ dcredit + dmoney + dinflation + mustb...  "
            ],
            "text/html": [
              "\n",
              "  <div id=\"df-fc0b94f5-9761-4b46-82b4-8b0157c1b13a\">\n",
              "    <div class=\"colab-df-container\">\n",
              "      <div>\n",
              "<style scoped>\n",
              "    .dataframe tbody tr th:only-of-type {\n",
              "        vertical-align: middle;\n",
              "    }\n",
              "\n",
              "    .dataframe tbody tr th {\n",
              "        vertical-align: top;\n",
              "    }\n",
              "\n",
              "    .dataframe thead th {\n",
              "        text-align: right;\n",
              "    }\n",
              "</style>\n",
              "<table border=\"1\" class=\"dataframe\">\n",
              "  <thead>\n",
              "    <tr style=\"text-align: right;\">\n",
              "      <th></th>\n",
              "      <th>predictors</th>\n",
              "      <th>MSE_mean</th>\n",
              "      <th>MSE_folds</th>\n",
              "      <th>Model</th>\n",
              "    </tr>\n",
              "  </thead>\n",
              "  <tbody>\n",
              "    <tr>\n",
              "      <th>3</th>\n",
              "      <td>4</td>\n",
              "      <td>138.309037</td>\n",
              "      <td>[95.72647725152626, 132.11623375002893, 164.77...</td>\n",
              "      <td>eraapl ~ dcredit + dmoney + dinflation + mustb...</td>\n",
              "    </tr>\n",
              "  </tbody>\n",
              "</table>\n",
              "</div>\n",
              "      <button class=\"colab-df-convert\" onclick=\"convertToInteractive('df-fc0b94f5-9761-4b46-82b4-8b0157c1b13a')\"\n",
              "              title=\"Convert this dataframe to an interactive table.\"\n",
              "              style=\"display:none;\">\n",
              "        \n",
              "  <svg xmlns=\"http://www.w3.org/2000/svg\" height=\"24px\"viewBox=\"0 0 24 24\"\n",
              "       width=\"24px\">\n",
              "    <path d=\"M0 0h24v24H0V0z\" fill=\"none\"/>\n",
              "    <path d=\"M18.56 5.44l.94 2.06.94-2.06 2.06-.94-2.06-.94-.94-2.06-.94 2.06-2.06.94zm-11 1L8.5 8.5l.94-2.06 2.06-.94-2.06-.94L8.5 2.5l-.94 2.06-2.06.94zm10 10l.94 2.06.94-2.06 2.06-.94-2.06-.94-.94-2.06-.94 2.06-2.06.94z\"/><path d=\"M17.41 7.96l-1.37-1.37c-.4-.4-.92-.59-1.43-.59-.52 0-1.04.2-1.43.59L10.3 9.45l-7.72 7.72c-.78.78-.78 2.05 0 2.83L4 21.41c.39.39.9.59 1.41.59.51 0 1.02-.2 1.41-.59l7.78-7.78 2.81-2.81c.8-.78.8-2.07 0-2.86zM5.41 20L4 18.59l7.72-7.72 1.47 1.35L5.41 20z\"/>\n",
              "  </svg>\n",
              "      </button>\n",
              "      \n",
              "  <style>\n",
              "    .colab-df-container {\n",
              "      display:flex;\n",
              "      flex-wrap:wrap;\n",
              "      gap: 12px;\n",
              "    }\n",
              "\n",
              "    .colab-df-convert {\n",
              "      background-color: #E8F0FE;\n",
              "      border: none;\n",
              "      border-radius: 50%;\n",
              "      cursor: pointer;\n",
              "      display: none;\n",
              "      fill: #1967D2;\n",
              "      height: 32px;\n",
              "      padding: 0 0 0 0;\n",
              "      width: 32px;\n",
              "    }\n",
              "\n",
              "    .colab-df-convert:hover {\n",
              "      background-color: #E2EBFA;\n",
              "      box-shadow: 0px 1px 2px rgba(60, 64, 67, 0.3), 0px 1px 3px 1px rgba(60, 64, 67, 0.15);\n",
              "      fill: #174EA6;\n",
              "    }\n",
              "\n",
              "    [theme=dark] .colab-df-convert {\n",
              "      background-color: #3B4455;\n",
              "      fill: #D2E3FC;\n",
              "    }\n",
              "\n",
              "    [theme=dark] .colab-df-convert:hover {\n",
              "      background-color: #434B5C;\n",
              "      box-shadow: 0px 1px 3px 1px rgba(0, 0, 0, 0.15);\n",
              "      filter: drop-shadow(0px 1px 2px rgba(0, 0, 0, 0.3));\n",
              "      fill: #FFFFFF;\n",
              "    }\n",
              "  </style>\n",
              "\n",
              "      <script>\n",
              "        const buttonEl =\n",
              "          document.querySelector('#df-fc0b94f5-9761-4b46-82b4-8b0157c1b13a button.colab-df-convert');\n",
              "        buttonEl.style.display =\n",
              "          google.colab.kernel.accessAllowed ? 'block' : 'none';\n",
              "\n",
              "        async function convertToInteractive(key) {\n",
              "          const element = document.querySelector('#df-fc0b94f5-9761-4b46-82b4-8b0157c1b13a');\n",
              "          const dataTable =\n",
              "            await google.colab.kernel.invokeFunction('convertToInteractive',\n",
              "                                                     [key], {});\n",
              "          if (!dataTable) return;\n",
              "\n",
              "          const docLinkHtml = 'Like what you see? Visit the ' +\n",
              "            '<a target=\"_blank\" href=https://colab.research.google.com/notebooks/data_table.ipynb>data table notebook</a>'\n",
              "            + ' to learn more about interactive tables.';\n",
              "          element.innerHTML = '';\n",
              "          dataTable['output_type'] = 'display_data';\n",
              "          await google.colab.output.renderOutput(dataTable, element);\n",
              "          const docLink = document.createElement('div');\n",
              "          docLink.innerHTML = docLinkHtml;\n",
              "          element.appendChild(docLink);\n",
              "        }\n",
              "      </script>\n",
              "    </div>\n",
              "  </div>\n",
              "  "
            ]
          },
          "metadata": {}
        },
        {
          "output_type": "stream",
          "name": "stdout",
          "text": [
            "eraapl ~ dcredit + dmoney + dinflation + mustb3m + ersandp\n"
          ]
        }
      ]
    },
    {
      "cell_type": "markdown",
      "source": [
        "#Encogimiento"
      ],
      "metadata": {
        "id": "Bcfqz7UK9XWi"
      }
    },
    {
      "cell_type": "code",
      "source": [
        "#Ahora  una regresion Ridge y Lasso\n",
        "#En este caso vamos a usar una regresion ridge con un cros validation de 10 particiones para producir resultados comparables a los que se obtuvieron anteriormente"
      ],
      "metadata": {
        "id": "cryc37KK1wFI"
      },
      "execution_count": null,
      "outputs": []
    },
    {
      "cell_type": "code",
      "source": [
        "def ridge_cv(X, y, λ, k):\n",
        "    \"\"\"Perform ridge regresion with \n",
        "    k-fold cross validation to return mean MSE scores for each fold\"\"\"\n",
        "    # Split dataset into k-folds\n",
        "    # Note: np.array_split doesn't raise excpetion is folds are unequal in size\n",
        "    X_folds = np.array_split(X, k)\n",
        "    y_folds = np.array_split(y, k)\n",
        "    \n",
        "    MSEs = []\n",
        "    for f in np.arange(len(X_folds)):\n",
        "        # Create training and test sets\n",
        "        X_test  = X_folds[f]\n",
        "        y_test  = y_folds[f]\n",
        "        X_train = X.drop(X_folds[f].index)\n",
        "        y_train = y.drop(y_folds[f].index)\n",
        "        \n",
        "        # Fit model\n",
        "        model = linear_model.Ridge(alpha=λ, fit_intercept=False, solver='cholesky').fit(X_train, y_train)\n",
        "        \n",
        "        # Measure MSE\n",
        "        y_hat = model.predict(X_test)\n",
        "        MSEs += [mse(y_hat, y_test)]\n",
        "    return MSEs"
      ],
      "metadata": {
        "id": "roXUJiQFmBV4"
      },
      "execution_count": null,
      "outputs": []
    },
    {
      "cell_type": "code",
      "source": [
        "X.dropna(inplace=True)"
      ],
      "metadata": {
        "id": "c36T4zojmENk"
      },
      "execution_count": null,
      "outputs": []
    },
    {
      "cell_type": "code",
      "source": [
        "data.dropna(inplace=True)"
      ],
      "metadata": {
        "id": "YbWinczVmHE8"
      },
      "execution_count": null,
      "outputs": []
    },
    {
      "cell_type": "code",
      "source": [
        "data.shape"
      ],
      "metadata": {
        "colab": {
          "base_uri": "https://localhost:8080/"
        },
        "id": "c-SnE5Q0mIqb",
        "outputId": "94a91fcd-3a84-4f6c-9e74-42d3654fe8a1"
      },
      "execution_count": null,
      "outputs": [
        {
          "output_type": "execute_result",
          "data": {
            "text/plain": [
              "(383, 13)"
            ]
          },
          "metadata": {},
          "execution_count": 36
        }
      ]
    },
    {
      "cell_type": "code",
      "source": [
        "data.head()"
      ],
      "metadata": {
        "colab": {
          "base_uri": "https://localhost:8080/",
          "height": 237
        },
        "id": "JRtGTYDmmK5A",
        "outputId": "ba4d9807-42ed-440b-fd33-f8d24163226e"
      },
      "execution_count": null,
      "outputs": [
        {
          "output_type": "execute_result",
          "data": {
            "text/plain": [
              "            dspread  dcredit  dprod      raapl    rsandp  dmoney  inflation  \\\n",
              "Date                                                                          \n",
              "1986-05-01    -0.20     7.55   0.12  19.415601  4.900850    -1.3   0.275862   \n",
              "1986-06-01     0.01     5.97  -0.19  -6.062462  1.401095    17.1   0.549452   \n",
              "1986-07-01     0.07     5.72   0.31 -13.353139 -6.047514    10.6   0.000000   \n",
              "1986-08-01     0.18     6.90  -0.08  19.415601  6.877262     5.0   0.182482   \n",
              "1986-09-01    -0.15     9.38   0.12 -12.516314 -8.931074     6.1   0.454753   \n",
              "\n",
              "            term  dinflation   mustb3m  rterm     eraapl   ersandp  \n",
              "Date                                                                \n",
              "1986-05-01  1.38    0.459855  0.527500   0.32  18.888101  4.373350  \n",
              "1986-06-01  1.40    0.273590  0.533333   0.02  -6.595796  0.867761  \n",
              "1986-07-01  1.30   -0.549452  0.500000  -0.10 -13.853139 -6.547514  \n",
              "1986-08-01  1.48    0.182482  0.474167   0.18  18.941435  6.403095  \n",
              "1986-09-01  2.10    0.272271  0.445833   0.62 -12.962148 -9.376907  "
            ],
            "text/html": [
              "\n",
              "  <div id=\"df-9993be40-88b8-4736-849d-0d1c47509b73\">\n",
              "    <div class=\"colab-df-container\">\n",
              "      <div>\n",
              "<style scoped>\n",
              "    .dataframe tbody tr th:only-of-type {\n",
              "        vertical-align: middle;\n",
              "    }\n",
              "\n",
              "    .dataframe tbody tr th {\n",
              "        vertical-align: top;\n",
              "    }\n",
              "\n",
              "    .dataframe thead th {\n",
              "        text-align: right;\n",
              "    }\n",
              "</style>\n",
              "<table border=\"1\" class=\"dataframe\">\n",
              "  <thead>\n",
              "    <tr style=\"text-align: right;\">\n",
              "      <th></th>\n",
              "      <th>dspread</th>\n",
              "      <th>dcredit</th>\n",
              "      <th>dprod</th>\n",
              "      <th>raapl</th>\n",
              "      <th>rsandp</th>\n",
              "      <th>dmoney</th>\n",
              "      <th>inflation</th>\n",
              "      <th>term</th>\n",
              "      <th>dinflation</th>\n",
              "      <th>mustb3m</th>\n",
              "      <th>rterm</th>\n",
              "      <th>eraapl</th>\n",
              "      <th>ersandp</th>\n",
              "    </tr>\n",
              "    <tr>\n",
              "      <th>Date</th>\n",
              "      <th></th>\n",
              "      <th></th>\n",
              "      <th></th>\n",
              "      <th></th>\n",
              "      <th></th>\n",
              "      <th></th>\n",
              "      <th></th>\n",
              "      <th></th>\n",
              "      <th></th>\n",
              "      <th></th>\n",
              "      <th></th>\n",
              "      <th></th>\n",
              "      <th></th>\n",
              "    </tr>\n",
              "  </thead>\n",
              "  <tbody>\n",
              "    <tr>\n",
              "      <th>1986-05-01</th>\n",
              "      <td>-0.20</td>\n",
              "      <td>7.55</td>\n",
              "      <td>0.12</td>\n",
              "      <td>19.415601</td>\n",
              "      <td>4.900850</td>\n",
              "      <td>-1.3</td>\n",
              "      <td>0.275862</td>\n",
              "      <td>1.38</td>\n",
              "      <td>0.459855</td>\n",
              "      <td>0.527500</td>\n",
              "      <td>0.32</td>\n",
              "      <td>18.888101</td>\n",
              "      <td>4.373350</td>\n",
              "    </tr>\n",
              "    <tr>\n",
              "      <th>1986-06-01</th>\n",
              "      <td>0.01</td>\n",
              "      <td>5.97</td>\n",
              "      <td>-0.19</td>\n",
              "      <td>-6.062462</td>\n",
              "      <td>1.401095</td>\n",
              "      <td>17.1</td>\n",
              "      <td>0.549452</td>\n",
              "      <td>1.40</td>\n",
              "      <td>0.273590</td>\n",
              "      <td>0.533333</td>\n",
              "      <td>0.02</td>\n",
              "      <td>-6.595796</td>\n",
              "      <td>0.867761</td>\n",
              "    </tr>\n",
              "    <tr>\n",
              "      <th>1986-07-01</th>\n",
              "      <td>0.07</td>\n",
              "      <td>5.72</td>\n",
              "      <td>0.31</td>\n",
              "      <td>-13.353139</td>\n",
              "      <td>-6.047514</td>\n",
              "      <td>10.6</td>\n",
              "      <td>0.000000</td>\n",
              "      <td>1.30</td>\n",
              "      <td>-0.549452</td>\n",
              "      <td>0.500000</td>\n",
              "      <td>-0.10</td>\n",
              "      <td>-13.853139</td>\n",
              "      <td>-6.547514</td>\n",
              "    </tr>\n",
              "    <tr>\n",
              "      <th>1986-08-01</th>\n",
              "      <td>0.18</td>\n",
              "      <td>6.90</td>\n",
              "      <td>-0.08</td>\n",
              "      <td>19.415601</td>\n",
              "      <td>6.877262</td>\n",
              "      <td>5.0</td>\n",
              "      <td>0.182482</td>\n",
              "      <td>1.48</td>\n",
              "      <td>0.182482</td>\n",
              "      <td>0.474167</td>\n",
              "      <td>0.18</td>\n",
              "      <td>18.941435</td>\n",
              "      <td>6.403095</td>\n",
              "    </tr>\n",
              "    <tr>\n",
              "      <th>1986-09-01</th>\n",
              "      <td>-0.15</td>\n",
              "      <td>9.38</td>\n",
              "      <td>0.12</td>\n",
              "      <td>-12.516314</td>\n",
              "      <td>-8.931074</td>\n",
              "      <td>6.1</td>\n",
              "      <td>0.454753</td>\n",
              "      <td>2.10</td>\n",
              "      <td>0.272271</td>\n",
              "      <td>0.445833</td>\n",
              "      <td>0.62</td>\n",
              "      <td>-12.962148</td>\n",
              "      <td>-9.376907</td>\n",
              "    </tr>\n",
              "  </tbody>\n",
              "</table>\n",
              "</div>\n",
              "      <button class=\"colab-df-convert\" onclick=\"convertToInteractive('df-9993be40-88b8-4736-849d-0d1c47509b73')\"\n",
              "              title=\"Convert this dataframe to an interactive table.\"\n",
              "              style=\"display:none;\">\n",
              "        \n",
              "  <svg xmlns=\"http://www.w3.org/2000/svg\" height=\"24px\"viewBox=\"0 0 24 24\"\n",
              "       width=\"24px\">\n",
              "    <path d=\"M0 0h24v24H0V0z\" fill=\"none\"/>\n",
              "    <path d=\"M18.56 5.44l.94 2.06.94-2.06 2.06-.94-2.06-.94-.94-2.06-.94 2.06-2.06.94zm-11 1L8.5 8.5l.94-2.06 2.06-.94-2.06-.94L8.5 2.5l-.94 2.06-2.06.94zm10 10l.94 2.06.94-2.06 2.06-.94-2.06-.94-.94-2.06-.94 2.06-2.06.94z\"/><path d=\"M17.41 7.96l-1.37-1.37c-.4-.4-.92-.59-1.43-.59-.52 0-1.04.2-1.43.59L10.3 9.45l-7.72 7.72c-.78.78-.78 2.05 0 2.83L4 21.41c.39.39.9.59 1.41.59.51 0 1.02-.2 1.41-.59l7.78-7.78 2.81-2.81c.8-.78.8-2.07 0-2.86zM5.41 20L4 18.59l7.72-7.72 1.47 1.35L5.41 20z\"/>\n",
              "  </svg>\n",
              "      </button>\n",
              "      \n",
              "  <style>\n",
              "    .colab-df-container {\n",
              "      display:flex;\n",
              "      flex-wrap:wrap;\n",
              "      gap: 12px;\n",
              "    }\n",
              "\n",
              "    .colab-df-convert {\n",
              "      background-color: #E8F0FE;\n",
              "      border: none;\n",
              "      border-radius: 50%;\n",
              "      cursor: pointer;\n",
              "      display: none;\n",
              "      fill: #1967D2;\n",
              "      height: 32px;\n",
              "      padding: 0 0 0 0;\n",
              "      width: 32px;\n",
              "    }\n",
              "\n",
              "    .colab-df-convert:hover {\n",
              "      background-color: #E2EBFA;\n",
              "      box-shadow: 0px 1px 2px rgba(60, 64, 67, 0.3), 0px 1px 3px 1px rgba(60, 64, 67, 0.15);\n",
              "      fill: #174EA6;\n",
              "    }\n",
              "\n",
              "    [theme=dark] .colab-df-convert {\n",
              "      background-color: #3B4455;\n",
              "      fill: #D2E3FC;\n",
              "    }\n",
              "\n",
              "    [theme=dark] .colab-df-convert:hover {\n",
              "      background-color: #434B5C;\n",
              "      box-shadow: 0px 1px 3px 1px rgba(0, 0, 0, 0.15);\n",
              "      filter: drop-shadow(0px 1px 2px rgba(0, 0, 0, 0.3));\n",
              "      fill: #FFFFFF;\n",
              "    }\n",
              "  </style>\n",
              "\n",
              "      <script>\n",
              "        const buttonEl =\n",
              "          document.querySelector('#df-9993be40-88b8-4736-849d-0d1c47509b73 button.colab-df-convert');\n",
              "        buttonEl.style.display =\n",
              "          google.colab.kernel.accessAllowed ? 'block' : 'none';\n",
              "\n",
              "        async function convertToInteractive(key) {\n",
              "          const element = document.querySelector('#df-9993be40-88b8-4736-849d-0d1c47509b73');\n",
              "          const dataTable =\n",
              "            await google.colab.kernel.invokeFunction('convertToInteractive',\n",
              "                                                     [key], {});\n",
              "          if (!dataTable) return;\n",
              "\n",
              "          const docLinkHtml = 'Like what you see? Visit the ' +\n",
              "            '<a target=\"_blank\" href=https://colab.research.google.com/notebooks/data_table.ipynb>data table notebook</a>'\n",
              "            + ' to learn more about interactive tables.';\n",
              "          element.innerHTML = '';\n",
              "          dataTable['output_type'] = 'display_data';\n",
              "          await google.colab.output.renderOutput(dataTable, element);\n",
              "          const docLink = document.createElement('div');\n",
              "          docLink.innerHTML = docLinkHtml;\n",
              "          element.appendChild(docLink);\n",
              "        }\n",
              "      </script>\n",
              "    </div>\n",
              "  </div>\n",
              "  "
            ]
          },
          "metadata": {},
          "execution_count": 37
        }
      ]
    },
    {
      "cell_type": "code",
      "source": [
        "X = data.drop(data[['eraapl', \"raapl\", \"rsandp\", \"inflation\", \"term\"]], axis=1)\n",
        "y = data['eraapl']"
      ],
      "metadata": {
        "id": "VSkMteVamO7t"
      },
      "execution_count": null,
      "outputs": []
    },
    {
      "cell_type": "code",
      "source": [
        "#lambdas = np.arange(0, 0.08, 0.0005)\n",
        "lambdas = np.arange(1, 300, 1)\n",
        "MSEs    = [] \n",
        "for l in lambdas:\n",
        "    MSEs += [np.mean(ridge_cv(X, y, λ=l, k=10))]\n",
        "\n",
        "sns.scatterplot(x='λ', y='MSE', data=pd.DataFrame({'λ': lambdas, 'MSE': MSEs}));"
      ],
      "metadata": {
        "colab": {
          "base_uri": "https://localhost:8080/",
          "height": 279
        },
        "id": "tMYwTsTsmZ8z",
        "outputId": "0c4a3b40-45af-49d5-e000-2f88eced6af5"
      },
      "execution_count": null,
      "outputs": [
        {
          "output_type": "display_data",
          "data": {
            "text/plain": [
              "<Figure size 432x288 with 1 Axes>"
            ],
            "image/png": "[encoded data removed]"
          },
          "metadata": {
            "needs_background": "light"
          }
        }
      ]
    },
    {
      "cell_type": "code",
      "source": [
        "min(zip(MSEs, lambdas))"
      ],
      "metadata": {
        "colab": {
          "base_uri": "https://localhost:8080/"
        },
        "id": "1Zze94JsmcDk",
        "outputId": "b26fdff5-9e76-48ff-d1d3-405cb65ec3ae"
      },
      "execution_count": null,
      "outputs": [
        {
          "output_type": "execute_result",
          "data": {
            "text/plain": [
              "(140.0293645775075, 299)"
            ]
          },
          "metadata": {},
          "execution_count": 40
        }
      ]
    },
    {
      "cell_type": "markdown",
      "source": [
        "Aca podemos observar que el resultado obtenido es peor en comparación a los anteriores ya que encontramos que el obtenemos el menor error cuadratico medio cuando tenemos un λ=299 para obtener un MSE = 140.029\n"
      ],
      "metadata": {
        "id": "wJj75iHpqYSt"
      }
    },
    {
      "cell_type": "code",
      "source": [
        "# What coefficients does ridge regression choose for the optimal lambda value?\n",
        "model = linear_model.Ridge(alpha=7, fit_intercept=False, solver='cholesky').fit(X, y)\n",
        "df = pd.DataFrame({'feature': X.columns, 'coefficient': model.coef_})\n",
        "ax = sns.barplot(x='coefficient', y='feature', data=df);\n",
        "plt.xticks(rotation=90)"
      ],
      "metadata": {
        "colab": {
          "base_uri": "https://localhost:8080/",
          "height": 474
        },
        "id": "EjTrD9JAmhSy",
        "outputId": "184e6225-43a2-4866-e477-a5b20a1240b6"
      },
      "execution_count": null,
      "outputs": [
        {
          "output_type": "execute_result",
          "data": {
            "text/plain": [
              "(array([-0.5 , -0.25,  0.  ,  0.25,  0.5 ,  0.75,  1.  ,  1.25,  1.5 ]),\n",
              " [Text(-0.5, 0, '−0.50'),\n",
              "  Text(-0.25, 0, '−0.25'),\n",
              "  Text(0.0, 0, '0.00'),\n",
              "  Text(0.25, 0, '0.25'),\n",
              "  Text(0.5, 0, '0.50'),\n",
              "  Text(0.75, 0, '0.75'),\n",
              "  Text(1.0, 0, '1.00'),\n",
              "  Text(1.25, 0, '1.25'),\n",
              "  Text(1.5, 0, '1.50')])"
            ]
          },
          "metadata": {},
          "execution_count": 41
        },
        {
          "output_type": "display_data",
          "data": {
            "text/plain": [
              "<Figure size 432x288 with 1 Axes>"
            ],
            "image/png": "[encoded data removed]"
          },
          "metadata": {
            "needs_background": "light"
          }
        }
      ]
    },
    {
      "cell_type": "markdown",
      "source": [
        "Se observa como la mayoria de las variables tienen un aporte positivo gracias a su coeficiente, estas son ersandp, dinflation, dprod, dspread"
      ],
      "metadata": {
        "id": "IVSjqJ3Nro1w"
      }
    },
    {
      "cell_type": "code",
      "source": [
        "#Ahora veremos el mismo enfoque con un mismo CV de 10 particiones pero con una regresion Lasso"
      ],
      "metadata": {
        "id": "QpFek6R5sQ20"
      },
      "execution_count": null,
      "outputs": []
    },
    {
      "cell_type": "code",
      "source": [
        "def lasso_cv(X, y, λ, k):\n",
        "    \"\"\"Perform the lasso with \n",
        "    k-fold cross validation to return mean MSE scores for each fold\"\"\"\n",
        "    # Split dataset into k-folds\n",
        "    # Note: np.array_split doesn't raise excpetion is folds are unequal in size\n",
        "    X_folds = np.array_split(X, k)\n",
        "    y_folds = np.array_split(y, k)\n",
        "    \n",
        "    MSEs = []\n",
        "    for f in np.arange(len(X_folds)):\n",
        "        # Create training and test sets\n",
        "        X_test  = X_folds[f]\n",
        "        y_test  = y_folds[f]\n",
        "        X_train = X.drop(X_folds[f].index)\n",
        "        y_train = y.drop(y_folds[f].index)\n",
        "        \n",
        "        # Fit model\n",
        "        model = linear_model.Lasso(alpha=λ, copy_X=True, fit_intercept=False, max_iter=10000,\n",
        "                                    positive=False, precompute=False, random_state=None,\n",
        "                                   selection='cyclic', tol=0.0001, warm_start=False).fit(X_train, y_train)\n",
        "        \n",
        "        # Measure MSE\n",
        "        y_hat = model.predict(X_test)\n",
        "        MSEs += [mse(y_hat, y_test)]\n",
        "    return MSEs"
      ],
      "metadata": {
        "id": "npn48akKmlgz"
      },
      "execution_count": null,
      "outputs": []
    },
    {
      "cell_type": "code",
      "source": [
        "X = data.drop(data[['eraapl', \"raapl\", \"rsandp\", \"inflation\", \"term\"]], axis=1)\n",
        "y = data['eraapl']\n",
        "\n",
        "#lambdas = np.arange(0, 0.08, 0.0005)\n",
        "\n",
        "lambdas = np.arange(0, 0.08, 0.0005)\n",
        "MSEs    = [] \n",
        "for l in lambdas:\n",
        "    MSEs += [np.mean(lasso_cv(X, y, λ=l, k=10))]\n",
        "\n",
        "sns.scatterplot(x='λ', y='MSE', data=pd.DataFrame({'λ': lambdas, 'MSE': MSEs}));"
      ],
      "metadata": {
        "id": "PKOOgJi1mn_t",
        "colab": {
          "base_uri": "https://localhost:8080/",
          "height": 279
        },
        "outputId": "9a508443-fbf8-458d-b50b-33f109b006bb"
      },
      "execution_count": null,
      "outputs": [
        {
          "output_type": "display_data",
          "data": {
            "text/plain": [
              "<Figure size 432x288 with 1 Axes>"
            ],
            "image/png": "[encoded data removed]"
          },
          "metadata": {
            "needs_background": "light"
          }
        }
      ]
    },
    {
      "cell_type": "code",
      "source": [
        "min(zip(MSEs, lambdas))"
      ],
      "metadata": {
        "id": "cTKbjTeSnWIi",
        "colab": {
          "base_uri": "https://localhost:8080/"
        },
        "outputId": "df27c6f6-10c5-4fdf-f853-9779a77f88f7"
      },
      "execution_count": null,
      "outputs": [
        {
          "output_type": "execute_result",
          "data": {
            "text/plain": [
              "(140.8527450777186, 0.0795)"
            ]
          },
          "metadata": {},
          "execution_count": 45
        }
      ]
    },
    {
      "cell_type": "markdown",
      "source": [
        "Con la regresión Lasso por su parte obtenemos un λ =0.0795 el cual me minimiza el error cuadratico medio, un resultado similar al que obtenemos en el caso de ridge."
      ],
      "metadata": {
        "id": "7EVxPR65scYv"
      }
    },
    {
      "cell_type": "code",
      "source": [
        "# What coefficients does the lasso choose for the optimal lambda value?\n",
        "model = linear_model.Lasso(alpha=0.002, copy_X=True, fit_intercept=False, max_iter=10000, positive=False, precompute=False, random_state=None,\n",
        "                           selection='cyclic', tol=0.0001, warm_start=False).fit(X, y)\n",
        "df = pd.DataFrame({'feature': X.columns, 'coefficient': model.coef_})\n",
        "ax = sns.barplot(x='coefficient', y='feature', data=df);\n",
        "plt.xticks(rotation=90)"
      ],
      "metadata": {
        "id": "l6i05smpnKe7",
        "colab": {
          "base_uri": "https://localhost:8080/",
          "height": 468
        },
        "outputId": "a473ef7d-543a-4e55-e398-d9621706b90a"
      },
      "execution_count": null,
      "outputs": [
        {
          "output_type": "execute_result",
          "data": {
            "text/plain": [
              "(array([-1. , -0.5,  0. ,  0.5,  1. ,  1.5,  2. ,  2.5,  3. ]),\n",
              " [Text(-1.0, 0, '−1.0'),\n",
              "  Text(-0.5, 0, '−0.5'),\n",
              "  Text(0.0, 0, '0.0'),\n",
              "  Text(0.5, 0, '0.5'),\n",
              "  Text(1.0, 0, '1.0'),\n",
              "  Text(1.5, 0, '1.5'),\n",
              "  Text(2.0, 0, '2.0'),\n",
              "  Text(2.5, 0, '2.5'),\n",
              "  Text(3.0, 0, '3.0')])"
            ]
          },
          "metadata": {},
          "execution_count": 46
        },
        {
          "output_type": "display_data",
          "data": {
            "text/plain": [
              "<Figure size 432x288 with 1 Axes>"
            ],
            "image/png": "[encoded data removed]"
          },
          "metadata": {
            "needs_background": "light"
          }
        }
      ]
    },
    {
      "cell_type": "code",
      "source": [
        "display(HTML('<h4>Model chosen by lasso:</h4>'))\n",
        "print('Salary ~ {}'.format(' + '.join(X.columns[model.coef_ != 0])))\n",
        "print('MSE: {:01.0f}'.format(min(MSEs)))\n",
        "\n",
        "display(HTML('<h4>Model chosen by backward stepwise selection:</h4>'))\n",
        "print(backward_select_choice['Model'].iloc[0])\n",
        "print('MSE: {:01.0f}'.format(backward_select_choice['MSE_mean'].iloc[0]))"
      ],
      "metadata": {
        "id": "oNeBddfpncMu",
        "colab": {
          "base_uri": "https://localhost:8080/",
          "height": 166
        },
        "outputId": "812e6c2f-23ba-4df2-ce20-861a3b37a030"
      },
      "execution_count": null,
      "outputs": [
        {
          "output_type": "display_data",
          "data": {
            "text/plain": [
              "<IPython.core.display.HTML object>"
            ],
            "text/html": [
              "<h4>Model chosen by lasso:</h4>"
            ]
          },
          "metadata": {}
        },
        {
          "output_type": "stream",
          "name": "stdout",
          "text": [
            "Salary ~ dspread + dcredit + dprod + dmoney + dinflation + mustb3m + rterm + ersandp\n",
            "MSE: 141\n"
          ]
        },
        {
          "output_type": "display_data",
          "data": {
            "text/plain": [
              "<IPython.core.display.HTML object>"
            ],
            "text/html": [
              "<h4>Model chosen by backward stepwise selection:</h4>"
            ]
          },
          "metadata": {}
        },
        {
          "output_type": "stream",
          "name": "stdout",
          "text": [
            "eraapl ~ dcredit + dmoney + dinflation + mustb3m + ersandp\n",
            "MSE: 138\n"
          ]
        }
      ]
    },
    {
      "cell_type": "markdown",
      "source": [
        "Se puede observar como mediante el metodo de backward stepwise pudmos obtener un modelo mucho más simple que es superior al modelo que me entrega la regresión de Lasso o Ridge ya que con menos variables obtiene un menor error cuadratico medio."
      ],
      "metadata": {
        "id": "Yh0hadhPs-LJ"
      }
    },
    {
      "cell_type": "markdown",
      "source": [
        "#Reducción de dimensionalidad\n",
        "\n",
        "##Regresiones PCR y PSL"
      ],
      "metadata": {
        "id": "RiKMbUtstYvB"
      }
    },
    {
      "cell_type": "code",
      "source": [
        "#Reducción de dimensionalidad Regresion de componentes principales y PSL\n",
        "# Deps for pca/pcr\n",
        "from sklearn.preprocessing import scale\n",
        "from sklearn.decomposition import PCA\n",
        "from sklearn.model_selection import cross_val_score\n",
        "from sklearn.linear_model import LinearRegression"
      ],
      "metadata": {
        "id": "lHkscwjbngpR"
      },
      "execution_count": null,
      "outputs": []
    },
    {
      "cell_type": "code",
      "source": [
        "X = data.drop(data[['eraapl', \"raapl\", \"rsandp\", \"inflation\", \"term\"]], axis=1)\n",
        "y = data['eraapl']"
      ],
      "metadata": {
        "id": "xkjv8s5Lnu6w"
      },
      "execution_count": null,
      "outputs": []
    },
    {
      "cell_type": "code",
      "source": [
        "#PCA\n",
        "# Get principle components\n",
        "pca = PCA()\n",
        "X_reduced = pca.fit_transform(scale(X))\n",
        "\n",
        "# What variance (%c umulative) is explained by principle components?\n",
        "variance_explained   = np.cumsum(np.around(pca.explained_variance_ratio_ *100, decimals=1))\n",
        "principal_components = np.arange(1, len(variance_explained)+1)\n",
        "\n",
        "sns.lineplot(x='principal components count', y='% variance explained', \n",
        "             data=pd.DataFrame({'principal components count': principal_components, \n",
        "                                '% variance explained': variance_explained}));"
      ],
      "metadata": {
        "colab": {
          "base_uri": "https://localhost:8080/",
          "height": 279
        },
        "id": "wS_F-MFdnz9N",
        "outputId": "ae93ffc0-7854-448e-a90a-74d02f13d11a"
      },
      "execution_count": null,
      "outputs": [
        {
          "output_type": "display_data",
          "data": {
            "text/plain": [
              "<Figure size 432x288 with 1 Axes>"
            ],
            "image/png": "[encoded data removed]"
          },
          "metadata": {
            "needs_background": "light"
          }
        }
      ]
    },
    {
      "cell_type": "code",
      "source": [
        "X_reduced = pca.fit_transform(scale(X))\n",
        "X_reduced.shape"
      ],
      "metadata": {
        "colab": {
          "base_uri": "https://localhost:8080/"
        },
        "id": "X41pxp3nn5Rh",
        "outputId": "23c9462a-cd5b-4ffc-a597-84ae80dd8612"
      },
      "execution_count": null,
      "outputs": [
        {
          "output_type": "execute_result",
          "data": {
            "text/plain": [
              "(383, 8)"
            ]
          },
          "metadata": {},
          "execution_count": 51
        }
      ]
    },
    {
      "cell_type": "markdown",
      "source": [
        "Se ve como existe un incremento lineal entre el número de componentes principales y la varianza explicada por cada uno de estos, un punto optimo de componentes principales esperando que estos expliqen el 90% o mas es usando 7 componentes principales"
      ],
      "metadata": {
        "id": "3zuIlNiMuCXW"
      }
    },
    {
      "cell_type": "code",
      "source": [
        "#Regresion de componentes principales\n",
        "def pcr_cv(seed, cv_folds):\n",
        "    \"\"\"Perform Principle Component Regression evaluated with\n",
        "    k-fold cross validation\"\"\"\n",
        "    # Load data\n",
        "    X = data.drop(data[['eraapl', \"raapl\", \"rsandp\", \"inflation\", \"term\"]], axis=1)\n",
        "    y = data['eraapl']\n",
        "    \n",
        "    # Get all principle components\n",
        "    pca = PCA()\n",
        "    X_reduced = pca.fit_transform(scale(X))\n",
        "    \n",
        "    # Get cv MSE for cumulative components\n",
        "    M = X_reduced.shape[1]\n",
        "    MSEs = []\n",
        "    for m in range(M):\n",
        "        model = LinearRegression()\n",
        "        cv    = KFold(n_splits=cv_folds, random_state=seed, shuffle=True)\n",
        "        cv10  = cross_val_score(model, X_reduced[:, 0:m+1], y, cv=cv, scoring='neg_mean_squared_error')\n",
        "        MSEs += [np.mean(np.abs(cv10))]\n",
        "        \n",
        "    ax = sns.lineplot(x='principal components count', y='MSE', \n",
        "                 data=pd.DataFrame({'principal components count': principal_components, \n",
        "                                    'MSE': MSEs}));\n",
        "    #ax.axes.set_ylim(1000, 1000)\n",
        "\n",
        "\n",
        "interact(pcr_cv, \n",
        "           seed=widgets.IntSlider(min=1, max=50, step=1, value=10), \n",
        "           cv_folds=widgets.IntSlider(min=2, max=100, step=1, value=10));"
      ],
      "metadata": {
        "colab": {
          "base_uri": "https://localhost:8080/",
          "height": 343,
          "referenced_widgets": [
            "c99975fcf36e464ea2e79d69001f51d9",
            "13c2c87c2b8e49c5b655f4ff15419313",
            "204b9bf193ac42c2ae4e007abdcab64f",
            "809a8e9fef0f45a9a9137ff76ea7c24f",
            "092bfcb4f7654901b19e4fd6b3f984e8",
            "e0a779cf118e442cac0a68e02f3c8d12",
            "d2054f929ab444e5b88c949579a36faf",
            "0c8fede9706946b69958db3e25591cd1",
            "e200902283eb42958f35e702406727b0",
            "bb8a7792a76d4c04a01045a323b3f38f"
          ]
        },
        "id": "n23sTi7tn7Pp",
        "outputId": "5b799813-f750-4060-8625-78b4f7bb4987"
      },
      "execution_count": null,
      "outputs": [
        {
          "output_type": "display_data",
          "data": {
            "text/plain": [
              "interactive(children=(IntSlider(value=10, description='seed', max=50, min=1), IntSlider(value=10, description=…"
            ],
            "application/vnd.jupyter.widget-view+json": {
              "version_major": 2,
              "version_minor": 0,
              "model_id": "c99975fcf36e464ea2e79d69001f51d9"
            }
          },
          "metadata": {}
        }
      ]
    },
    {
      "cell_type": "markdown",
      "source": [
        "Aca podemos observar como varia el error cuadratico medio y la cantidad de componentes principales cuando vario el lugar donde particiono mis datos y la cantidad de particiones que voy a tomar en el Cross validation, de la grafica se observa como para la mayoria de valores de seed y particiones la cantidad de componentes principales que minimizan el error cuadratico medio es 8 aunque en algunos valores la cantidad de componentes principales que minimizan el MSE esta entre 5 y 6."
      ],
      "metadata": {
        "id": "xRobJ-Pcvpsz"
      }
    },
    {
      "cell_type": "code",
      "source": [
        "def pcr_holdout(seed):\n",
        "    \"\"\"Perform Principle Component Regression evaluated with\n",
        "    k-fold hold-out set\"\"\"\n",
        "    # With 50% holdout set\n",
        "    np.random.seed(seed)\n",
        "    train = np.random.rand(len(data)) < 0.5\n",
        "    \n",
        "    pca = PCA()\n",
        "    X_train = pca.fit_transform(scale(data.drop('eraapl', axis=1)[train]))\n",
        "    y_train = data['eraapl'][train]\n",
        "    X_test  = pca.fit_transform(scale(data.drop('eraapl', axis=1)[~train]))\n",
        "    y_test  = data['eraapl'][~train]\n",
        "    \n",
        "    \n",
        "    # Get cv MSE for cumulative components\n",
        "    M = X_reduced.shape[1]\n",
        "    \n",
        "    MSEs = []\n",
        "    for m in range(M):\n",
        "        model = LinearRegression().fit(X_train[:, 0:m+1], y_train)\n",
        "        y_hat = model.predict(X_test[:, 0:m+1])\n",
        "        MSEs += [mse(y_hat, y_test)]\n",
        "    \n",
        "    # Plot results\n",
        "    ax = sns.lineplot(x='principal components count', y='MSE', \n",
        "                      data=pd.DataFrame({'principal components count': principal_components, \n",
        "                                         'MSE': MSEs}))\n",
        "    #ax.axes.set_ylim(10, 100);\n",
        "\n",
        "interact(pcr_holdout, seed=widgets.IntSlider(min=1, max=50, step=1, value=10));"
      ],
      "metadata": {
        "colab": {
          "base_uri": "https://localhost:8080/",
          "height": 311,
          "referenced_widgets": [
            "f8fa2c35e09b4573a0c9772a22d262f0",
            "8d2084078f384c21a4729cece540f078",
            "ed24ba94ee484161b99ad6d6ff5d0c05",
            "f11aee832d3c45f0a9b92fd3c0c1cf1f",
            "b8720100955e4feda8eefd3809d4c71a",
            "e03b130898bc481688bc7b2cd39e3da6",
            "602e21fd572847ed90d4b8b363c40d44"
          ]
        },
        "id": "pO0PjQpxoS01",
        "outputId": "fc80f4b6-ae34-413c-de3e-da8d2363cf68"
      },
      "execution_count": null,
      "outputs": [
        {
          "output_type": "display_data",
          "data": {
            "text/plain": [
              "interactive(children=(IntSlider(value=10, description='seed', max=50, min=1), Output()), _dom_classes=('widget…"
            ],
            "application/vnd.jupyter.widget-view+json": {
              "version_major": 2,
              "version_minor": 0,
              "model_id": "f8fa2c35e09b4573a0c9772a22d262f0"
            }
          },
          "metadata": {}
        }
      ]
    },
    {
      "cell_type": "markdown",
      "source": [
        "En esta grafica podemos observar como a medida que variamos donde se encuentra la partición entre mi set de entrenamiento y de testeo el número optimo de componentes principales que me minimiza el MSE varia de gran manera ya que mi variable de seed me controla la mezcla de los datos, mostrando que existe una gran variablidad en el MSE dependiendo de donde parto mis datos."
      ],
      "metadata": {
        "id": "qEuqTDsSvsSd"
      }
    }
  ]
}